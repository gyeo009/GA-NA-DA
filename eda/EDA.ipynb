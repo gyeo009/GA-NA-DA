{
 "cells": [
  {
   "cell_type": "markdown",
   "id": "6e7b8151-4f67-403e-b89b-dc3ae89e8251",
   "metadata": {},
   "source": [
    "# 설치 부분"
   ]
  },
  {
   "cell_type": "code",
   "execution_count": 2,
   "id": "5e8f2b4c-fd85-4226-a657-77e03f3b26db",
   "metadata": {},
   "outputs": [
    {
     "name": "stdout",
     "output_type": "stream",
     "text": [
      "Requirement already satisfied: pandas in c:\\users\\engineer\\appdata\\local\\programs\\python\\python312\\lib\\site-packages (2.2.1)\n",
      "Requirement already satisfied: numpy<2,>=1.26.0 in c:\\users\\engineer\\appdata\\local\\programs\\python\\python312\\lib\\site-packages (from pandas) (1.26.4)\n",
      "Requirement already satisfied: python-dateutil>=2.8.2 in c:\\users\\engineer\\appdata\\local\\programs\\python\\python312\\lib\\site-packages (from pandas) (2.9.0.post0)\n",
      "Requirement already satisfied: pytz>=2020.1 in c:\\users\\engineer\\appdata\\local\\programs\\python\\python312\\lib\\site-packages (from pandas) (2024.1)\n",
      "Requirement already satisfied: tzdata>=2022.7 in c:\\users\\engineer\\appdata\\local\\programs\\python\\python312\\lib\\site-packages (from pandas) (2024.1)\n",
      "Requirement already satisfied: six>=1.5 in c:\\users\\engineer\\appdata\\local\\programs\\python\\python312\\lib\\site-packages (from python-dateutil>=2.8.2->pandas) (1.16.0)\n",
      "Requirement already satisfied: matplotlib in c:\\users\\engineer\\appdata\\local\\programs\\python\\python312\\lib\\site-packages (3.8.3)\n",
      "Requirement already satisfied: contourpy>=1.0.1 in c:\\users\\engineer\\appdata\\local\\programs\\python\\python312\\lib\\site-packages (from matplotlib) (1.2.0)\n",
      "Requirement already satisfied: cycler>=0.10 in c:\\users\\engineer\\appdata\\local\\programs\\python\\python312\\lib\\site-packages (from matplotlib) (0.12.1)\n",
      "Requirement already satisfied: fonttools>=4.22.0 in c:\\users\\engineer\\appdata\\local\\programs\\python\\python312\\lib\\site-packages (from matplotlib) (4.49.0)\n",
      "Requirement already satisfied: kiwisolver>=1.3.1 in c:\\users\\engineer\\appdata\\local\\programs\\python\\python312\\lib\\site-packages (from matplotlib) (1.4.5)\n",
      "Requirement already satisfied: numpy<2,>=1.21 in c:\\users\\engineer\\appdata\\local\\programs\\python\\python312\\lib\\site-packages (from matplotlib) (1.26.4)\n",
      "Requirement already satisfied: packaging>=20.0 in c:\\users\\engineer\\appdata\\local\\programs\\python\\python312\\lib\\site-packages (from matplotlib) (23.2)\n",
      "Requirement already satisfied: pillow>=8 in c:\\users\\engineer\\appdata\\local\\programs\\python\\python312\\lib\\site-packages (from matplotlib) (10.2.0)\n",
      "Requirement already satisfied: pyparsing>=2.3.1 in c:\\users\\engineer\\appdata\\local\\programs\\python\\python312\\lib\\site-packages (from matplotlib) (3.1.2)\n",
      "Requirement already satisfied: python-dateutil>=2.7 in c:\\users\\engineer\\appdata\\local\\programs\\python\\python312\\lib\\site-packages (from matplotlib) (2.9.0.post0)\n",
      "Requirement already satisfied: six>=1.5 in c:\\users\\engineer\\appdata\\local\\programs\\python\\python312\\lib\\site-packages (from python-dateutil>=2.7->matplotlib) (1.16.0)\n"
     ]
    }
   ],
   "source": [
    "!pip install pandas\n",
    "!pip install matplotlib"
   ]
  },
  {
   "cell_type": "markdown",
   "id": "9073b04f-d717-4801-ac8f-ca9f44f3f73e",
   "metadata": {},
   "source": [
    "# 현재 존재하는 파일 정리\n",
    "\n",
    "### 여행지 데이터 정리\n",
    "- 국립공원 : 5개\n",
    "- 귀산촌 : 5개\n",
    "- 둘레길 : 7개\n",
    "- 등산로 : 7개\n",
    "- 자전거코스 : 6개\n",
    "> 여행지 데이터의 개수가 불균형하므로 공통적으로 있는 파일을 조사해야함\n",
    "\n",
    "### 모든 여행지가 공통적으로 있는 파일\n",
    "- 관심사관심분야(포털 검색 분야) 정보\n",
    "- 라이프스타일(온라인쇼핑몰 이용 카테고리 정보)\n",
    "- 관심인구 정보\n",
    "\n",
    "### 조건\n",
    "- Age Group : 2만 가져오기\n",
    "- 먼저 인원 수에 대한 비교 진행"
   ]
  },
  {
   "cell_type": "code",
   "execution_count": 77,
   "id": "fdfa6129-4340-4e22-8283-3541874e6322",
   "metadata": {},
   "outputs": [
    {
     "name": "stdout",
     "output_type": "stream",
     "text": [
      "C:\\Users\\engineer\\Desktop\\24-1 hackerthon\n",
      "TB_KFS_FFNSR_AGGRP_C.csv\n",
      "TB_KFS_FFNSR_AR_C.csv\n",
      "TB_KFS_FFNSR_RSPT_ANS_L1.csv\n",
      "TB_KFS_FFNSR_RSPT_ANS_L2.csv\n",
      "TB_KFS_FFNSR_RSPT_DST_D.csv\n",
      "TB_KFS_FFNSR_RSPT_M.csv\n",
      "TB_KFS_FFNSR_RSPT_QST_C.csv\n",
      "국립공원 관심인구 관심사관심분야(포털 검색 분야) 정보.csv\n",
      "국립공원 관심인구 라이프스타일(온라인쇼핑몰 이용 카테고리 정보).csv\n",
      "국립공원 관심인구 정보.csv\n",
      "귀산촌 관심인구 관심사관심분야(포털 검색 분야) 정보.csv\n",
      "귀산촌 관심인구 라이프스타일(온라인쇼핑몰 검색구매 카테고리) 정보.csv\n",
      "귀산촌 관심인구 정보.csv\n",
      "둘레길 관심인구 관심사관심분야(포털 검색 분야) 정보.csv\n",
      "둘레길 관심인구 라이프스타일(온라인쇼핑몰 이용 카테고리 정보).csv\n",
      "둘레길 관심인구 정보.csv\n",
      "등산로 관심인구 관심사관심분야(포털 검색 분야) 정보.csv\n",
      "등산로 관심인구 라이프스타일(온라인쇼핑몰 이용 카테고리 정보).csv\n",
      "등산로 관심인구 정보.csv\n",
      "산림체험 관심인구 정보.csv\n",
      "산림치유원 관심인구 선호 산림치유 프로그램 검색 정보.csv\n",
      "자전거코스자전거길 관심인구 관심사관심분야(포털 검색 분야) 정보.csv\n",
      "자전거코스자전거길 관심인구 라이프스타일(온라인쇼핑몰 검색구매 카테고리) 정보.csv\n",
      "자전거코스자전거길 관심인구 정보.csv\n"
     ]
    }
   ],
   "source": [
    "import os\n",
    "\n",
    "\n",
    "#현재 폴더 경로; 작업 폴더 기준\n",
    "print(os.getcwd())\n",
    "def get_file_names(folder_path):\n",
    "    file_names = os.listdir(folder_path)\n",
    "    return file_names\n",
    "\n",
    "folder_path = './data'\n",
    "file_names = get_file_names(folder_path)\n",
    "file_names.sort()\n",
    "\n",
    "for file_name in file_names:\n",
    "    print(file_name)"
   ]
  },
  {
   "cell_type": "markdown",
   "id": "2b3a6614-4fed-49e0-86c0-a417a0a6d590",
   "metadata": {},
   "source": [
    "# 전체 테이블 개수"
   ]
  },
  {
   "cell_type": "code",
   "execution_count": 50,
   "id": "b5cae980-f381-4838-83a7-af6c38ad0016",
   "metadata": {},
   "outputs": [
    {
     "data": {
      "text/plain": [
       "24"
      ]
     },
     "execution_count": 50,
     "metadata": {},
     "output_type": "execute_result"
    }
   ],
   "source": [
    "len(file_names)"
   ]
  },
  {
   "cell_type": "markdown",
   "id": "21b0682f-c4f1-460e-a1d9-6c97e4a2b607",
   "metadata": {},
   "source": [
    "# 전체 속성 개수"
   ]
  },
  {
   "cell_type": "code",
   "execution_count": 62,
   "id": "82769795-d201-4932-8809-f186cb57b4c6",
   "metadata": {},
   "outputs": [
    {
     "name": "stdout",
     "output_type": "stream",
     "text": [
      "민석이가 분석한 테이블 15개의 속성의 개수 합: 355\n"
     ]
    }
   ],
   "source": [
    "import os\n",
    "import pandas as pd\n",
    "\n",
    "# 디렉토리 경로 설정\n",
    "folder_path\n",
    "\n",
    "# 속성의 개수를 저장할 변수 초기화\n",
    "total_attributes = 0\n",
    "\n",
    "\n",
    "\n",
    "def csv_col_info(file_name):\n",
    "    global total_attributes\n",
    "    file_df = pd.read_csv(f'./data/{file_name}', encoding='cp949')\n",
    "    \n",
    "    # DataFrame의 열(속성) 개수를 합산\n",
    "    total_attributes += len(file_df.columns)\n",
    "    \n",
    "# 디렉토리 내의 파일 탐색\n",
    "for file_name in file_names:\n",
    "    csv_col_info(file_name)\n",
    "\n",
    "\n",
    "# 결과 출력\n",
    "print(\"민석이가 분석한 테이블 15개의 속성의 개수 합:\", total_attributes)\n"
   ]
  },
  {
   "cell_type": "markdown",
   "id": "9a278c61-d9c5-4306-9aab-a86196286883",
   "metadata": {},
   "source": [
    "내 분석 테이블 집합 - 민석 분석 테이블 집합\n",
    "한 테이블들은 인코딩 문제때문에 손으로 계산\n",
    "\n",
    "### 산림 휴양복지 통계 테이블 설문정보 컬럼 수 : 17개\n",
    "### 산림 체험 관심인구 설문정보 컬럼 수 : 18개\n",
    "### 산림치유원 관심인구 선호 산림치유 프로그램 검색 정보 컬럼 수 : 19개\n",
    "\n",
    "### 355+17+18+19 = 409"
   ]
  },
  {
   "cell_type": "markdown",
   "id": "f79ce3d9-968c-4565-a7f0-0332b1d8c934",
   "metadata": {},
   "source": [
    "# 준님 요청사항 - 국립공원, 귀산촌, 둘레길, 등산로, 자전거코스, 산림체험, 산림치유원 에서 20,30대 남,여성 로우 수 및 평균"
   ]
  },
  {
   "cell_type": "markdown",
   "id": "94cff2a6-b008-496a-8fd7-26e9ac1b89a3",
   "metadata": {},
   "source": [
    "## 국립공원"
   ]
  },
  {
   "cell_type": "code",
   "execution_count": 41,
   "id": "d78b3c7b-fc41-4375-b095-5d5195e53cb3",
   "metadata": {},
   "outputs": [
    {
     "data": {
      "text/plain": [
       "re.compile(r'.*국립공원.*', re.UNICODE)"
      ]
     },
     "execution_count": 41,
     "metadata": {},
     "output_type": "execute_result"
    }
   ],
   "source": [
    "import re\n",
    "pattern = r'.*국립공원.*'\n",
    "re.compile(pattern)"
   ]
  },
  {
   "cell_type": "code",
   "execution_count": 42,
   "id": "d1348b4e-c5e1-424f-a665-d361c19dd02b",
   "metadata": {},
   "outputs": [],
   "source": [
    "def is_match(file_name):\n",
    "    return re.match(pattern, file_name)\n",
    "\n",
    "portal_files = list(filter(is_match, file_names))"
   ]
  },
  {
   "cell_type": "code",
   "execution_count": 43,
   "id": "20027b6c-db31-4385-a5fb-6c56436e4f34",
   "metadata": {},
   "outputs": [
    {
     "name": "stdout",
     "output_type": "stream",
     "text": [
      "['국립공원 관심인구 관심사관심분야(포털 검색 분야) 정보.csv', '국립공원 관심인구 라이프스타일(온라인쇼핑몰 이용 카테고리 정보).csv', '국립공원 관심인구 정보.csv']\n"
     ]
    }
   ],
   "source": [
    "print(portal_files)"
   ]
  },
  {
   "cell_type": "code",
   "execution_count": 44,
   "id": "fa104a38-13d7-4612-9f97-48a4f7658b41",
   "metadata": {},
   "outputs": [
    {
     "name": "stdout",
     "output_type": "stream",
     "text": [
      "<class 'pandas.core.frame.DataFrame'>\n",
      "RangeIndex: 625562 entries, 0 to 625561\n",
      "Data columns (total 26 columns):\n",
      " #   Column                     Non-Null Count   Dtype \n",
      "---  ------                     --------------   ----- \n",
      " 0   auser_ntrs_id              625562 non-null  object\n",
      " 1   info_obtn_dt               625562 non-null  object\n",
      " 2   auser_sxdst_cd             625562 non-null  object\n",
      " 3   age_group_cd               625562 non-null  int64 \n",
      " 4   occpn_nm                   624774 non-null  object\n",
      " 5   hshld_incm_group_nm        624774 non-null  object\n",
      " 6   mrrg_yn_nm                 625562 non-null  object\n",
      " 7   chdrn_yn_nm                625562 non-null  object\n",
      " 8   rsid_fom_nm                624774 non-null  object\n",
      " 9   auser_ara_ctprv_nm         625562 non-null  object\n",
      " 10  auser_ara_gu_nm            625562 non-null  object\n",
      " 11  auser_ara_dong_nm          625562 non-null  object\n",
      " 12  car_group_nm               387243 non-null  object\n",
      " 13  craln_tlphn_mkr_nm         624475 non-null  object\n",
      " 14  craln_tlphn_sbscr_cmpn_nm  624774 non-null  object\n",
      " 15  pltc_dgnt_cont             48673 non-null   object\n",
      " 16  ecnm_dgnt_cont             48715 non-null   object\n",
      " 17  sct_dgnt_cont              135228 non-null  object\n",
      " 18  lilhd_dgnt_cont            21841 non-null   object\n",
      " 19  wrld_dgnt_cont             26188 non-null   object\n",
      " 20  it_dgnt_cont               10222 non-null   object\n",
      " 21  sprt_dgnt_cont             225074 non-null  object\n",
      " 22  tv_etmn_dgnt_cont          109621 non-null  object\n",
      " 23  main_ntrs_cd               625562 non-null  object\n",
      " 24  info_obtn_site_url         625562 non-null  object\n",
      " 25  info_obtn_site_subjc_nm    625562 non-null  object\n",
      "dtypes: int64(1), object(25)\n",
      "memory usage: 124.1+ MB\n",
      "None\n",
      "<class 'pandas.core.frame.DataFrame'>\n",
      "RangeIndex: 173928 entries, 0 to 173927\n",
      "Data columns (total 27 columns):\n",
      " #   Column                     Non-Null Count   Dtype \n",
      "---  ------                     --------------   ----- \n",
      " 0   auser_lfst_id              173928 non-null  object\n",
      " 1   info_obtn_dt               173928 non-null  object\n",
      " 2   auser_sxdst_cd             173928 non-null  object\n",
      " 3   age_group_cd               173928 non-null  int64 \n",
      " 4   occpn_nm                   173621 non-null  object\n",
      " 5   hshld_incm_group_nm        173621 non-null  object\n",
      " 6   mrrg_yn_nm                 173928 non-null  object\n",
      " 7   chdrn_yn_nm                173928 non-null  object\n",
      " 8   rsid_fom_nm                173621 non-null  object\n",
      " 9   auser_ara_ctprv_nm         173928 non-null  object\n",
      " 10  auser_ara_gu_nm            173928 non-null  object\n",
      " 11  auser_ara_dong_nm          173928 non-null  object\n",
      " 12  car_group_nm               100721 non-null  object\n",
      " 13  craln_tlphn_mkr_nm         173534 non-null  object\n",
      " 14  craln_tlphn_sbscr_cmpn_nm  173621 non-null  object\n",
      " 15  frnt_ntds_prfn_cont        6265 non-null    object\n",
      " 16  dgtl_hmpl_prfn_cont        17517 non-null   object\n",
      " 17  lsur_car_prfn_cont         6572 non-null    object\n",
      " 18  bty_prfn_cont              20099 non-null   object\n",
      " 19  lilhd_kchn_prfn_cont       24056 non-null   object\n",
      " 20  sprt_fshn_prfn_cont        3645 non-null    object\n",
      " 21  grcs_helth_prfn_cont       44094 non-null   object\n",
      " 22  jrny_prfn_cont             3672 non-null    object\n",
      " 23  fshn_wear_prfn_cont        29213 non-null   object\n",
      " 24  auser_fshn_stff_prfn_cont  18795 non-null   object\n",
      " 25  lfst_cd                    173928 non-null  object\n",
      " 26  info_obtn_site_url         173928 non-null  object\n",
      "dtypes: int64(1), object(26)\n",
      "memory usage: 35.8+ MB\n",
      "None\n",
      "<class 'pandas.core.frame.DataFrame'>\n",
      "RangeIndex: 19910 entries, 0 to 19909\n",
      "Data columns (total 18 columns):\n",
      " #   Column                     Non-Null Count  Dtype \n",
      "---  ------                     --------------  ----- \n",
      " 0   auser_info_id              19910 non-null  object\n",
      " 1   extrc_word_nm              19910 non-null  object\n",
      " 2   info_obtn_dt               19910 non-null  object\n",
      " 3   auser_sxdst_cd             19910 non-null  object\n",
      " 4   age_group_cd               19910 non-null  int64 \n",
      " 5   occpn_nm                   19893 non-null  object\n",
      " 6   hshld_incm_group_nm        19893 non-null  object\n",
      " 7   mrrg_yn_nm                 19910 non-null  object\n",
      " 8   chdrn_yn_nm                19910 non-null  object\n",
      " 9   rsid_fom_nm                19893 non-null  object\n",
      " 10  auser_ara_ctprv_nm         19910 non-null  object\n",
      " 11  auser_ara_gu_nm            19910 non-null  object\n",
      " 12  auser_ara_dong_nm          19910 non-null  object\n",
      " 13  car_group_nm               12439 non-null  object\n",
      " 14  craln_tlphn_mkr_nm         19888 non-null  object\n",
      " 15  craln_tlphn_sbscr_cmpn_nm  19893 non-null  object\n",
      " 16  info_obtn_site_url         19910 non-null  object\n",
      " 17  info_obtn_site_subjc_nm    19910 non-null  object\n",
      "dtypes: int64(1), object(17)\n",
      "memory usage: 2.7+ MB\n",
      "None\n"
     ]
    }
   ],
   "source": [
    "import pandas as pd\n",
    "\n",
    "def print_csv_file_info(file_name):\n",
    "    file_df = pd.read_csv(f'./data/{file_name}', encoding='cp949')\n",
    "    print(file_df.info())\n",
    "\n",
    "for i in portal_files:\n",
    "    print_csv_file_info(i)"
   ]
  },
  {
   "cell_type": "code",
   "execution_count": 45,
   "id": "03403ff6-a415-4b05-a960-6b2f104286f8",
   "metadata": {},
   "outputs": [
    {
     "name": "stdout",
     "output_type": "stream",
     "text": [
      "[625562, 173928, 19910]\n"
     ]
    }
   ],
   "source": [
    "file_paths = ['./data/' + file_name for file_name in portal_files]\n",
    "row_counts = []\n",
    "\n",
    "for file_path in file_paths:\n",
    "    try:\n",
    "        df = pd.read_csv(file_path, encoding='cp949')\n",
    "        row_counts.append(len(df))\n",
    "    except pd.errors.EmptyDataError:\n",
    "        row_counts.append(0)\n",
    "\n",
    "print(row_counts)"
   ]
  },
  {
   "cell_type": "code",
   "execution_count": 46,
   "id": "24ad9223-7d84-4e67-95e8-8f592850dd50",
   "metadata": {},
   "outputs": [
    {
     "name": "stdout",
     "output_type": "stream",
     "text": [
      "819400\n"
     ]
    }
   ],
   "source": [
    "sum = 0\n",
    "for i in row_counts:\n",
    "    sum += i\n",
    "print(sum)"
   ]
  },
  {
   "cell_type": "markdown",
   "id": "19bc5c9c-07ac-4bbf-803c-918ace61c950",
   "metadata": {},
   "source": [
    "## 필터링"
   ]
  },
  {
   "cell_type": "markdown",
   "id": "fb34061e-2a05-4540-a7d3-adca09e2832d",
   "metadata": {},
   "source": [
    "### 20대"
   ]
  },
  {
   "cell_type": "code",
   "execution_count": 47,
   "id": "71c8e737-297d-4955-a9ca-d585bf87a364",
   "metadata": {},
   "outputs": [
    {
     "name": "stdout",
     "output_type": "stream",
     "text": [
      "국립공원 관심인구 관심사관심분야(포털 검색 분야) 정보.csv\n",
      "국립공원 관심인구 라이프스타일(온라인쇼핑몰 이용 카테고리 정보).csv\n",
      "국립공원 관심인구 정보.csv\n"
     ]
    }
   ],
   "source": [
    "sort_index = ['F', 'M', 'F', 'M', 'F', 'M']\n",
    "counts = []\n",
    "\n",
    "for idx, file_name in enumerate(portal_files):\n",
    "    print(file_name)\n",
    "    file_path = './data/' + file_name\n",
    "    file_df = pd.read_csv(file_path, encoding='cp949')\n",
    "    file_df['type'] = sort_index[idx]\n",
    "\n",
    "    twenty_df = file_df[file_df['age_group_cd'] == 2]\n",
    "    counts.append(len(twenty_df[twenty_df['auser_sxdst_cd'] == 'F']))\n",
    "    counts.append(len(twenty_df[twenty_df['auser_sxdst_cd'] == 'M']))"
   ]
  },
  {
   "cell_type": "code",
   "execution_count": 50,
   "id": "f59475bf-6403-4ee2-8fac-58fdc846fb51",
   "metadata": {},
   "outputs": [
    {
     "name": "stdout",
     "output_type": "stream",
     "text": [
      "[33100, 55394, 18545, 2141, 2114, 618]\n",
      "20대:  111912\n",
      "20대 여성:  53759\n",
      "20대 남성:  58153\n"
     ]
    }
   ],
   "source": [
    "print(counts)\n",
    "print(\"20대: \", counts[0]+counts[2]+counts[4]+counts[1]+counts[3]+counts[5])\n",
    "print(\"20대 여성: \", counts[0]+counts[2]+counts[4])\n",
    "print(\"20대 남성: \", counts[1]+counts[3]+counts[5])\n"
   ]
  },
  {
   "cell_type": "markdown",
   "id": "78995304-dd34-4f07-bbb5-58f401c5743d",
   "metadata": {},
   "source": [
    "# 30대"
   ]
  },
  {
   "cell_type": "code",
   "execution_count": 51,
   "id": "8fcc8634-b42d-4ad9-9ae9-e440b4f22422",
   "metadata": {},
   "outputs": [
    {
     "name": "stdout",
     "output_type": "stream",
     "text": [
      "국립공원 관심인구 관심사관심분야(포털 검색 분야) 정보.csv\n",
      "국립공원 관심인구 라이프스타일(온라인쇼핑몰 이용 카테고리 정보).csv\n",
      "국립공원 관심인구 정보.csv\n"
     ]
    }
   ],
   "source": [
    "sort_index = ['F', 'M', 'F', 'M', 'F', 'M']\n",
    "counts = []\n",
    "\n",
    "for idx, file_name in enumerate(portal_files):\n",
    "    print(file_name)\n",
    "    file_path = './data/' + file_name\n",
    "    file_df = pd.read_csv(file_path, encoding='cp949')\n",
    "    file_df['type'] = sort_index[idx]\n",
    "\n",
    "    twenty_df = file_df[file_df['age_group_cd'] == 3]\n",
    "    counts.append(len(twenty_df[twenty_df['auser_sxdst_cd'] == 'F']))\n",
    "    counts.append(len(twenty_df[twenty_df['auser_sxdst_cd'] == 'M']))"
   ]
  },
  {
   "cell_type": "code",
   "execution_count": 52,
   "id": "6308e983-6d99-4599-9e39-916bce83cacf",
   "metadata": {},
   "outputs": [
    {
     "name": "stdout",
     "output_type": "stream",
     "text": [
      "[133354, 99049, 79143, 9648, 7296, 1033]\n",
      "30대:  329523\n",
      "30대 여성:  219793\n",
      "30대 남성:  109730\n"
     ]
    }
   ],
   "source": [
    "print(counts)\n",
    "print(\"30대: \", counts[0]+counts[2]+counts[4]+counts[1]+counts[3]+counts[5])\n",
    "print(\"30대 여성: \", counts[0]+counts[2]+counts[4])\n",
    "print(\"30대 남성: \", counts[1]+counts[3]+counts[5])"
   ]
  },
  {
   "cell_type": "markdown",
   "id": "cfdc4eb3-c463-4cc9-a3d6-2a1cae3bb40c",
   "metadata": {},
   "source": [
    "# 둘레길"
   ]
  },
  {
   "cell_type": "code",
   "execution_count": 53,
   "id": "8c7f486f-94e9-4c9c-a532-eeba7242cca8",
   "metadata": {},
   "outputs": [
    {
     "name": "stdout",
     "output_type": "stream",
     "text": [
      "['둘레길 관심인구 관심사관심분야(포털 검색 분야) 정보.csv', '둘레길 관심인구 라이프스타일(온라인쇼핑몰 이용 카테고리 정보).csv', '둘레길 관심인구 정보.csv']\n"
     ]
    }
   ],
   "source": [
    "import re\n",
    "pattern = r'.*둘레길.*'\n",
    "re.compile(pattern)\n",
    "def is_match(file_name):\n",
    "    return re.match(pattern, file_name)\n",
    "\n",
    "portal_files = list(filter(is_match, file_names))\n",
    "print(portal_files)"
   ]
  },
  {
   "cell_type": "code",
   "execution_count": 54,
   "id": "4c197229-24b1-46c2-97ee-c2bcc04c3b95",
   "metadata": {},
   "outputs": [
    {
     "name": "stdout",
     "output_type": "stream",
     "text": [
      "<class 'pandas.core.frame.DataFrame'>\n",
      "RangeIndex: 156516 entries, 0 to 156515\n",
      "Data columns (total 26 columns):\n",
      " #   Column                     Non-Null Count   Dtype \n",
      "---  ------                     --------------   ----- \n",
      " 0   auser_ntrs_id              156516 non-null  object\n",
      " 1   info_obtn_dt               156516 non-null  object\n",
      " 2   auser_sxdst_cd             156516 non-null  object\n",
      " 3   age_group_cd               156516 non-null  int64 \n",
      " 4   auser_occpn_nm             119417 non-null  object\n",
      " 5   hshld_incm_group_nm        119353 non-null  object\n",
      " 6   mrrg_yn_nm                 156516 non-null  object\n",
      " 7   chdrn_yn_nm                156516 non-null  object\n",
      " 8   rsid_fom_nm                119359 non-null  object\n",
      " 9   auser_ara_ctprv_nm         156015 non-null  object\n",
      " 10  auser_ara_gu_nm            156015 non-null  object\n",
      " 11  auser_ara_dong_nm          156015 non-null  object\n",
      " 12  car_group_nm               68507 non-null   object\n",
      " 13  craln_tlphn_mkr_nm         119610 non-null  object\n",
      " 14  craln_tlphn_sbscr_cmpn_nm  119898 non-null  object\n",
      " 15  pltc_dgnt_cont             14396 non-null   object\n",
      " 16  ecnm_dgnt_cont             13976 non-null   object\n",
      " 17  sct_dgnt_cont              45226 non-null   object\n",
      " 18  lilhd_dgnt_cont            7095 non-null    object\n",
      " 19  wrld_dgnt_cont             8110 non-null    object\n",
      " 20  it_dgnt_cont               2916 non-null    object\n",
      " 21  sprt_dgnt_cont             30671 non-null   object\n",
      " 22  tv_etmn_dgnt_cont          34126 non-null   object\n",
      " 23  main_ntrs_cd               156516 non-null  object\n",
      " 24  info_obtn_site_url         156516 non-null  object\n",
      " 25  info_obtn_site_subjc_nm    156516 non-null  object\n",
      "dtypes: int64(1), object(25)\n",
      "memory usage: 31.0+ MB\n",
      "None\n",
      "<class 'pandas.core.frame.DataFrame'>\n",
      "RangeIndex: 68606 entries, 0 to 68605\n",
      "Data columns (total 27 columns):\n",
      " #   Column                     Non-Null Count  Dtype \n",
      "---  ------                     --------------  ----- \n",
      " 0   auser_lfst_id              68606 non-null  object\n",
      " 1   info_obtn_dt               68606 non-null  object\n",
      " 2   auser_sxdst_cd             68606 non-null  object\n",
      " 3   age_group_cd               68606 non-null  int64 \n",
      " 4   auser_occpn_nm             47165 non-null  object\n",
      " 5   hshld_incm_group_nm        47142 non-null  object\n",
      " 6   mrrg_yn_nm                 68606 non-null  object\n",
      " 7   chdrn_yn_nm                68606 non-null  object\n",
      " 8   rsid_fom_nm                47146 non-null  object\n",
      " 9   auser_ara_ctprv_nm         68328 non-null  object\n",
      " 10  auser_ara_gu_nm            68328 non-null  object\n",
      " 11  auser_ara_dong_nm          68328 non-null  object\n",
      " 12  car_group_nm               27535 non-null  object\n",
      " 13  craln_tlphn_mkr_nm         47347 non-null  object\n",
      " 14  craln_tlphn_sbscr_cmpn_nm  47495 non-null  object\n",
      " 15  frnt_ntds_prfn_cont        1433 non-null   object\n",
      " 16  dgtl_hmpl_prfn_cont        6113 non-null   object\n",
      " 17  lsur_car_prfn_cont         2480 non-null   object\n",
      " 18  bty_prfn_cont              7347 non-null   object\n",
      " 19  lilhd_kchn_prfn_cont       9867 non-null   object\n",
      " 20  sprt_fshn_prfn_cont        1058 non-null   object\n",
      " 21  grcs_helth_prfn_cont       15267 non-null  object\n",
      " 22  jrny_prfn_cont             1860 non-null   object\n",
      " 23  fshn_wear_prfn_cont        13754 non-null  object\n",
      " 24  fshn_stff_prfn_cont        9427 non-null   object\n",
      " 25  lfst_cd                    68606 non-null  object\n",
      " 26  info_obtn_site_url         68606 non-null  object\n",
      "dtypes: int64(1), object(26)\n",
      "memory usage: 14.1+ MB\n",
      "None\n",
      "<class 'pandas.core.frame.DataFrame'>\n",
      "RangeIndex: 44373 entries, 0 to 44372\n",
      "Data columns (total 18 columns):\n",
      " #   Column                     Non-Null Count  Dtype \n",
      "---  ------                     --------------  ----- \n",
      " 0   auser_info_id              44373 non-null  object\n",
      " 1   extrc_word_nm              44373 non-null  object\n",
      " 2   info_obtn_dt               44373 non-null  object\n",
      " 3   auser_sxdst_cd             44373 non-null  object\n",
      " 4   age_group_cd               44373 non-null  int64 \n",
      " 5   auser_occpn_nm             26595 non-null  object\n",
      " 6   hshld_incm_group_nm        26567 non-null  object\n",
      " 7   mrrg_yn_nm                 44373 non-null  object\n",
      " 8   chdrn_yn_nm                44373 non-null  object\n",
      " 9   rsid_fom_nm                26573 non-null  object\n",
      " 10  auser_ara_ctprv_nm         44134 non-null  object\n",
      " 11  auser_ara_gu_nm            44134 non-null  object\n",
      " 12  auser_ara_dong_nm          44134 non-null  object\n",
      " 13  car_group_nm               16212 non-null  object\n",
      " 14  craln_tlphn_mkr_nm         26713 non-null  object\n",
      " 15  craln_tlphn_sbscr_cmpn_nm  26818 non-null  object\n",
      " 16  info_obtn_site_url         44373 non-null  object\n",
      " 17  info_obtn_site_subjc_nm    44373 non-null  object\n",
      "dtypes: int64(1), object(17)\n",
      "memory usage: 6.1+ MB\n",
      "None\n",
      "[156516, 68606, 44373]\n"
     ]
    }
   ],
   "source": [
    "import pandas as pd\n",
    "\n",
    "def print_csv_file_info(file_name):\n",
    "    file_df = pd.read_csv(f'./data/{file_name}', encoding='cp949')\n",
    "    print(file_df.info())\n",
    "\n",
    "for i in portal_files:\n",
    "    print_csv_file_info(i)\n",
    "\n",
    "file_paths = ['./data/' + file_name for file_name in portal_files]\n",
    "row_counts = []\n",
    "\n",
    "for file_path in file_paths:\n",
    "    try:\n",
    "        df = pd.read_csv(file_path, encoding='cp949')\n",
    "        row_counts.append(len(df))\n",
    "    except pd.errors.EmptyDataError:\n",
    "        row_counts.append(0)"
   ]
  },
  {
   "cell_type": "code",
   "execution_count": 55,
   "id": "51b466f9-8456-4ed2-ba1b-51c65ab1dc16",
   "metadata": {},
   "outputs": [
    {
     "name": "stdout",
     "output_type": "stream",
     "text": [
      "[156516, 68606, 44373]\n",
      "269495\n"
     ]
    }
   ],
   "source": [
    "print(row_counts)\n",
    "sum = 0\n",
    "for i in row_counts:\n",
    "    sum += i\n",
    "print(sum)"
   ]
  },
  {
   "cell_type": "code",
   "execution_count": 56,
   "id": "a53cd305-3df3-4af3-8125-ecac94dcc346",
   "metadata": {},
   "outputs": [
    {
     "name": "stdout",
     "output_type": "stream",
     "text": [
      "둘레길 관심인구 관심사관심분야(포털 검색 분야) 정보.csv\n",
      "둘레길 관심인구 라이프스타일(온라인쇼핑몰 이용 카테고리 정보).csv\n",
      "둘레길 관심인구 정보.csv\n",
      "[6676, 8207, 5638, 3249, 2686, 2731]\n",
      "20대:  29187\n",
      "20대 여성:  15000\n",
      "20대 남성:  14187\n"
     ]
    }
   ],
   "source": [
    "sort_index = ['F', 'M', 'F', 'M', 'F', 'M']\n",
    "counts = []\n",
    "\n",
    "for idx, file_name in enumerate(portal_files):\n",
    "    print(file_name)\n",
    "    file_path = './data/' + file_name\n",
    "    file_df = pd.read_csv(file_path, encoding='cp949')\n",
    "    file_df['type'] = sort_index[idx]\n",
    "\n",
    "    twenty_df = file_df[file_df['age_group_cd'] == 2]\n",
    "    counts.append(len(twenty_df[twenty_df['auser_sxdst_cd'] == 'F']))\n",
    "    counts.append(len(twenty_df[twenty_df['auser_sxdst_cd'] == 'M']))\n",
    "\n",
    "print(counts)\n",
    "print(\"20대: \", counts[0]+counts[2]+counts[4]+counts[1]+counts[3]+counts[5])\n",
    "print(\"20대 여성: \", counts[0]+counts[2]+counts[4])\n",
    "print(\"20대 남성: \", counts[1]+counts[3]+counts[5])"
   ]
  },
  {
   "cell_type": "code",
   "execution_count": 57,
   "id": "fab62424-4897-4205-9ba5-911af1aad593",
   "metadata": {},
   "outputs": [
    {
     "name": "stdout",
     "output_type": "stream",
     "text": [
      "둘레길 관심인구 관심사관심분야(포털 검색 분야) 정보.csv\n",
      "둘레길 관심인구 라이프스타일(온라인쇼핑몰 이용 카테고리 정보).csv\n",
      "둘레길 관심인구 정보.csv\n",
      "[32182, 17947, 15630, 7775, 6406, 6093]\n",
      "30대:  86033\n",
      "30대 여성:  54218\n",
      "30대 남성:  31815\n"
     ]
    }
   ],
   "source": [
    "sort_index = ['F', 'M', 'F', 'M', 'F', 'M']\n",
    "counts = []\n",
    "\n",
    "for idx, file_name in enumerate(portal_files):\n",
    "    print(file_name)\n",
    "    file_path = './data/' + file_name\n",
    "    file_df = pd.read_csv(file_path, encoding='cp949')\n",
    "    file_df['type'] = sort_index[idx]\n",
    "\n",
    "    twenty_df = file_df[file_df['age_group_cd'] == 3]\n",
    "    counts.append(len(twenty_df[twenty_df['auser_sxdst_cd'] == 'F']))\n",
    "    counts.append(len(twenty_df[twenty_df['auser_sxdst_cd'] == 'M']))\n",
    "\n",
    "print(counts)\n",
    "print(\"30대: \", counts[0]+counts[2]+counts[4]+counts[1]+counts[3]+counts[5])\n",
    "print(\"30대 여성: \", counts[0]+counts[2]+counts[4])\n",
    "print(\"30대 남성: \", counts[1]+counts[3]+counts[5])"
   ]
  },
  {
   "cell_type": "markdown",
   "id": "771c66ef-dee9-4722-a081-9b0a57b0509e",
   "metadata": {},
   "source": [
    "# 등산로"
   ]
  },
  {
   "cell_type": "code",
   "execution_count": 59,
   "id": "794e821a-d6a0-48bc-87b7-67c6e94d41aa",
   "metadata": {},
   "outputs": [
    {
     "name": "stdout",
     "output_type": "stream",
     "text": [
      "['등산로 관심인구 관심사관심분야(포털 검색 분야) 정보.csv', '등산로 관심인구 라이프스타일(온라인쇼핑몰 이용 카테고리 정보).csv', '등산로 관심인구 정보.csv']\n"
     ]
    }
   ],
   "source": [
    "import re\n",
    "pattern = r'.*등산로.*'\n",
    "re.compile(pattern)\n",
    "def is_match(file_name):\n",
    "    return re.match(pattern, file_name)\n",
    "\n",
    "portal_files = list(filter(is_match, file_names))\n",
    "print(portal_files)"
   ]
  },
  {
   "cell_type": "code",
   "execution_count": 60,
   "id": "5eeee5b9-7cb4-480a-b99b-8446a5b53863",
   "metadata": {},
   "outputs": [
    {
     "name": "stdout",
     "output_type": "stream",
     "text": [
      "<class 'pandas.core.frame.DataFrame'>\n",
      "RangeIndex: 873021 entries, 0 to 873020\n",
      "Data columns (total 26 columns):\n",
      " #   Column                     Non-Null Count   Dtype \n",
      "---  ------                     --------------   ----- \n",
      " 0   auser_ntrs_id              873021 non-null  object\n",
      " 1   info_obtn_dt               873021 non-null  object\n",
      " 2   auser_sxdst_cd             873021 non-null  object\n",
      " 3   age_group_cd               873021 non-null  int64 \n",
      " 4   auser_occpn_nm             872331 non-null  object\n",
      " 5   hshld_incm_group_nm        872331 non-null  object\n",
      " 6   mrrg_yn_nm                 873021 non-null  object\n",
      " 7   chdrn_yn_nm                873021 non-null  object\n",
      " 8   rsid_fom_nm                872331 non-null  object\n",
      " 9   auser_ara_ctprv_nm         873021 non-null  object\n",
      " 10  auser_ara_gu_nm            873021 non-null  object\n",
      " 11  auser_ara_dong_nm          873021 non-null  object\n",
      " 12  car_group_nm               544322 non-null  object\n",
      " 13  craln_tlphn_mkr_nm         871841 non-null  object\n",
      " 14  craln_tlphn_sbscr_cmpn_nm  872350 non-null  object\n",
      " 15  pltc_dgnt_cont             64901 non-null   object\n",
      " 16  ecnm_dgnt_cont             64264 non-null   object\n",
      " 17  sct_dgnt_cont              174667 non-null  object\n",
      " 18  lilhd_dgnt_cont            27370 non-null   object\n",
      " 19  wrld_dgnt_cont             31976 non-null   object\n",
      " 20  it_dgnt_cont               13454 non-null   object\n",
      " 21  sprt_dgnt_cont             352476 non-null  object\n",
      " 22  tv_etmn_dgnt_cont          143913 non-null  object\n",
      " 23  main_ntrs_cd               873021 non-null  object\n",
      " 24  info_obtn_site_url         873021 non-null  object\n",
      " 25  info_obtn_site_subjc_nm    873021 non-null  object\n",
      "dtypes: int64(1), object(25)\n",
      "memory usage: 173.2+ MB\n",
      "None\n",
      "<class 'pandas.core.frame.DataFrame'>\n",
      "RangeIndex: 247034 entries, 0 to 247033\n",
      "Data columns (total 27 columns):\n",
      " #   Column                     Non-Null Count   Dtype \n",
      "---  ------                     --------------   ----- \n",
      " 0   auser_lfst_id              247034 non-null  object\n",
      " 1   info_obtn_dt               247034 non-null  object\n",
      " 2   auser_sxdst_cd             247034 non-null  object\n",
      " 3   age_group_cd               247034 non-null  int64 \n",
      " 4   auser_occpn_nm             245881 non-null  object\n",
      " 5   hshld_incm_group_nm        245881 non-null  object\n",
      " 6   mrrg_yn_nm                 247034 non-null  object\n",
      " 7   chdrn_yn_nm                247034 non-null  object\n",
      " 8   rsid_fom_nm                245881 non-null  object\n",
      " 9   auser_ara_ctprv_nm         247034 non-null  object\n",
      " 10  auser_ara_gu_nm            247034 non-null  object\n",
      " 11  auser_ara_dong_nm          247034 non-null  object\n",
      " 12  car_group_nm               147754 non-null  object\n",
      " 13  craln_tlphn_mkr_nm         245531 non-null  object\n",
      " 14  craln_tlphn_sbscr_cmpn_nm  245882 non-null  object\n",
      " 15  frnt_ntds_prfn_cont        8357 non-null    object\n",
      " 16  dgtl_hmpl_prfn_cont        27550 non-null   object\n",
      " 17  lsur_car_prfn_cont         8785 non-null    object\n",
      " 18  bty_prfn_cont              27049 non-null   object\n",
      " 19  lilhd_kchn_prfn_cont       33354 non-null   object\n",
      " 20  sprt_fshn_prfn_cont        5605 non-null    object\n",
      " 21  grcs_helth_prfn_cont       60641 non-null   object\n",
      " 22  jrny_prfn_cont             5199 non-null    object\n",
      " 23  fshn_wear_prfn_cont        43737 non-null   object\n",
      " 24  auser_fshn_stff_prfn_cont  26757 non-null   object\n",
      " 25  lfst_cd                    247034 non-null  object\n",
      " 26  info_obtn_site_url         247034 non-null  object\n",
      "dtypes: int64(1), object(26)\n",
      "memory usage: 50.9+ MB\n",
      "None\n",
      "<class 'pandas.core.frame.DataFrame'>\n",
      "RangeIndex: 30692 entries, 0 to 30691\n",
      "Data columns (total 18 columns):\n",
      " #   Column                     Non-Null Count  Dtype \n",
      "---  ------                     --------------  ----- \n",
      " 0   auser_info_id              30692 non-null  object\n",
      " 1   extrc_word_nm              30692 non-null  object\n",
      " 2   info_obtn_dt               30692 non-null  object\n",
      " 3   auser_sxdst_cd             30692 non-null  object\n",
      " 4   age_group_cd               30692 non-null  int64 \n",
      " 5   auser_occpn_nm             30665 non-null  object\n",
      " 6   hshld_incm_group_nm        30665 non-null  object\n",
      " 7   mrrg_yn_nm                 30692 non-null  object\n",
      " 8   chdrn_yn_nm                30692 non-null  object\n",
      " 9   rsid_fom_nm                30665 non-null  object\n",
      " 10  auser_ara_ctprv_nm         30692 non-null  object\n",
      " 11  auser_ara_gu_nm            30692 non-null  object\n",
      " 12  auser_ara_dong_nm          30692 non-null  object\n",
      " 13  car_group_nm               18688 non-null  object\n",
      " 14  craln_tlphn_mkr_nm         30649 non-null  object\n",
      " 15  craln_tlphn_sbscr_cmpn_nm  30671 non-null  object\n",
      " 16  info_obtn_site_url         30692 non-null  object\n",
      " 17  info_obtn_site_subjc_nm    30692 non-null  object\n",
      "dtypes: int64(1), object(17)\n",
      "memory usage: 4.2+ MB\n",
      "None\n"
     ]
    }
   ],
   "source": [
    "import pandas as pd\n",
    "\n",
    "def print_csv_file_info(file_name):\n",
    "    file_df = pd.read_csv(f'./data/{file_name}', encoding='cp949')\n",
    "    print(file_df.info())\n",
    "\n",
    "for i in portal_files:\n",
    "    print_csv_file_info(i)\n",
    "\n",
    "file_paths = ['./data/' + file_name for file_name in portal_files]\n",
    "row_counts = []\n",
    "\n",
    "for file_path in file_paths:\n",
    "    try:\n",
    "        df = pd.read_csv(file_path, encoding='cp949')\n",
    "        row_counts.append(len(df))\n",
    "    except pd.errors.EmptyDataError:\n",
    "        row_counts.append(0)"
   ]
  },
  {
   "cell_type": "code",
   "execution_count": 61,
   "id": "43e3ab4f-0e24-4cb3-b210-d9ab2471b6eb",
   "metadata": {},
   "outputs": [
    {
     "name": "stdout",
     "output_type": "stream",
     "text": [
      "[873021, 247034, 30692]\n",
      "1150747\n"
     ]
    }
   ],
   "source": [
    "print(row_counts)\n",
    "sum = 0\n",
    "for i in row_counts:\n",
    "    sum += i\n",
    "print(sum)"
   ]
  },
  {
   "cell_type": "code",
   "execution_count": 62,
   "id": "0acd01f6-8aa7-480c-9bec-b4392924bf9b",
   "metadata": {},
   "outputs": [
    {
     "name": "stdout",
     "output_type": "stream",
     "text": [
      "등산로 관심인구 관심사관심분야(포털 검색 분야) 정보.csv\n",
      "등산로 관심인구 라이프스타일(온라인쇼핑몰 이용 카테고리 정보).csv\n",
      "등산로 관심인구 정보.csv\n",
      "[46635, 77648, 25992, 4427, 2663, 893]\n",
      "20대:  158258\n",
      "20대 여성:  75290\n",
      "20대 남성:  82968\n"
     ]
    }
   ],
   "source": [
    "sort_index = ['F', 'M', 'F', 'M', 'F', 'M']\n",
    "counts = []\n",
    "\n",
    "for idx, file_name in enumerate(portal_files):\n",
    "    print(file_name)\n",
    "    file_path = './data/' + file_name\n",
    "    file_df = pd.read_csv(file_path, encoding='cp949')\n",
    "    file_df['type'] = sort_index[idx]\n",
    "\n",
    "    twenty_df = file_df[file_df['age_group_cd'] == 2]\n",
    "    counts.append(len(twenty_df[twenty_df['auser_sxdst_cd'] == 'F']))\n",
    "    counts.append(len(twenty_df[twenty_df['auser_sxdst_cd'] == 'M']))\n",
    "\n",
    "print(counts)\n",
    "print(\"20대: \", counts[0]+counts[2]+counts[4]+counts[1]+counts[3]+counts[5])\n",
    "print(\"20대 여성: \", counts[0]+counts[2]+counts[4])\n",
    "print(\"20대 남성: \", counts[1]+counts[3]+counts[5])"
   ]
  },
  {
   "cell_type": "code",
   "execution_count": 63,
   "id": "89052d5d-11be-46eb-a3f5-c330e5346b3d",
   "metadata": {},
   "outputs": [
    {
     "name": "stdout",
     "output_type": "stream",
     "text": [
      "등산로 관심인구 관심사관심분야(포털 검색 분야) 정보.csv\n",
      "등산로 관심인구 라이프스타일(온라인쇼핑몰 이용 카테고리 정보).csv\n",
      "등산로 관심인구 정보.csv\n",
      "[170613, 180185, 108595, 17158, 10860, 2448]\n",
      "30대:  489859\n",
      "30대 여성:  290068\n",
      "30대 남성:  199791\n"
     ]
    }
   ],
   "source": [
    "sort_index = ['F', 'M', 'F', 'M', 'F', 'M']\n",
    "counts = []\n",
    "\n",
    "for idx, file_name in enumerate(portal_files):\n",
    "    print(file_name)\n",
    "    file_path = './data/' + file_name\n",
    "    file_df = pd.read_csv(file_path, encoding='cp949')\n",
    "    file_df['type'] = sort_index[idx]\n",
    "\n",
    "    twenty_df = file_df[file_df['age_group_cd'] == 3]\n",
    "    counts.append(len(twenty_df[twenty_df['auser_sxdst_cd'] == 'F']))\n",
    "    counts.append(len(twenty_df[twenty_df['auser_sxdst_cd'] == 'M']))\n",
    "\n",
    "print(counts)\n",
    "print(\"30대: \", counts[0]+counts[2]+counts[4]+counts[1]+counts[3]+counts[5])\n",
    "print(\"30대 여성: \", counts[0]+counts[2]+counts[4])\n",
    "print(\"30대 남성: \", counts[1]+counts[3]+counts[5])"
   ]
  },
  {
   "cell_type": "markdown",
   "id": "cde79a87-f827-4846-9dec-78d5df913674",
   "metadata": {},
   "source": [
    "# 자전거 코스"
   ]
  },
  {
   "cell_type": "code",
   "execution_count": 64,
   "id": "cbaa31d0-5c5a-4e0f-9c3f-1578ee0bc747",
   "metadata": {},
   "outputs": [
    {
     "name": "stdout",
     "output_type": "stream",
     "text": [
      "['자전거코스자전거길 관심인구 관심사관심분야(포털 검색 분야) 정보.csv', '자전거코스자전거길 관심인구 라이프스타일(온라인쇼핑몰 검색구매 카테고리) 정보.csv', '자전거코스자전거길 관심인구 정보.csv']\n"
     ]
    }
   ],
   "source": [
    "import re\n",
    "pattern = r'.*자전거.*'\n",
    "re.compile(pattern)\n",
    "def is_match(file_name):\n",
    "    return re.match(pattern, file_name)\n",
    "\n",
    "portal_files = list(filter(is_match, file_names))\n",
    "print(portal_files)"
   ]
  },
  {
   "cell_type": "code",
   "execution_count": 65,
   "id": "7b817b15-809e-4317-ab06-6728b301a6a2",
   "metadata": {},
   "outputs": [
    {
     "name": "stdout",
     "output_type": "stream",
     "text": [
      "<class 'pandas.core.frame.DataFrame'>\n",
      "RangeIndex: 50937 entries, 0 to 50936\n",
      "Data columns (total 26 columns):\n",
      " #   Column                     Non-Null Count  Dtype \n",
      "---  ------                     --------------  ----- \n",
      " 0   auser_ntrs_id              50937 non-null  object\n",
      " 1   info_obtn_dt               50937 non-null  object\n",
      " 2   auser_sxdst_cd             50937 non-null  object\n",
      " 3   age_group_cd               50937 non-null  int64 \n",
      " 4   occpn_nm                   32933 non-null  object\n",
      " 5   hshld_incm_group_nm        32901 non-null  object\n",
      " 6   mrrg_yn_nm                 50937 non-null  object\n",
      " 7   chdrn_yn_nm                50937 non-null  object\n",
      " 8   rsid_fom_nm                32909 non-null  object\n",
      " 9   auser_ara_ctprv_nm         50679 non-null  object\n",
      " 10  auser_ara_gu_nm            50679 non-null  object\n",
      " 11  auser_ara_dong_nm          50679 non-null  object\n",
      " 12  car_group_nm               18590 non-null  object\n",
      " 13  craln_tlphn_mkr_nm         32984 non-null  object\n",
      " 14  craln_tlphn_sbscr_cmpn_nm  33090 non-null  object\n",
      " 15  pltc_dgnt_cont             3481 non-null   object\n",
      " 16  ecnm_dgnt_cont             3576 non-null   object\n",
      " 17  sct_dgnt_cont              19835 non-null  object\n",
      " 18  lilhd_dgnt_cont            2109 non-null   object\n",
      " 19  wrld_dgnt_cont             2729 non-null   object\n",
      " 20  it_dgnt_cont               521 non-null    object\n",
      " 21  sprt_dgnt_cont             13534 non-null  object\n",
      " 22  tv_etmn_dgnt_cont          5152 non-null   object\n",
      " 23  main_ntrs_cd               50937 non-null  object\n",
      " 24  info_obtn_site_url         50937 non-null  object\n",
      " 25  info_obtn_site_subjc_nm    50937 non-null  object\n",
      "dtypes: int64(1), object(25)\n",
      "memory usage: 10.1+ MB\n",
      "None\n",
      "<class 'pandas.core.frame.DataFrame'>\n",
      "RangeIndex: 36729 entries, 0 to 36728\n",
      "Data columns (total 27 columns):\n",
      " #   Column                     Non-Null Count  Dtype \n",
      "---  ------                     --------------  ----- \n",
      " 0   auser_lfst_id              36729 non-null  object\n",
      " 1   info_obtn_dt               36729 non-null  object\n",
      " 2   auser_sxdst_cd             36729 non-null  object\n",
      " 3   age_group_cd               36729 non-null  int64 \n",
      " 4   occpn_nm                   22461 non-null  object\n",
      " 5   hshld_incm_group_nm        22426 non-null  object\n",
      " 6   mrrg_yn_nm                 36729 non-null  object\n",
      " 7   chdrn_yn_nm                36729 non-null  object\n",
      " 8   rsid_fom_nm                22431 non-null  object\n",
      " 9   auser_ara_ctprv_nm         36510 non-null  object\n",
      " 10  auser_ara_gu_nm            36510 non-null  object\n",
      " 11  auser_ara_dong_nm          36510 non-null  object\n",
      " 12  car_group_nm               11319 non-null  object\n",
      " 13  craln_tlphn_mkr_nm         22469 non-null  object\n",
      " 14  craln_tlphn_sbscr_cmpn_nm  22581 non-null  object\n",
      " 15  frnt_ntds_prfn_cont        696 non-null    object\n",
      " 16  dgtl_hmpl_prfn_cont        1996 non-null   object\n",
      " 17  lsur_car_prfn_cont         1566 non-null   object\n",
      " 18  bty_prfn_cont              4536 non-null   object\n",
      " 19  lilhd_kchn_prfn_cont       5642 non-null   object\n",
      " 20  sprt_fshn_prfn_cont        789 non-null    object\n",
      " 21  grcs_helth_prfn_cont       5940 non-null   object\n",
      " 22  jrny_prfn_cont             352 non-null    object\n",
      " 23  fshn_wear_prfn_cont        9251 non-null   object\n",
      " 24  auser_fshn_stff_prfn_cont  5961 non-null   object\n",
      " 25  lfst_cd                    36729 non-null  object\n",
      " 26  info_obtn_site_url         36729 non-null  object\n",
      "dtypes: int64(1), object(26)\n",
      "memory usage: 7.6+ MB\n",
      "None\n",
      "<class 'pandas.core.frame.DataFrame'>\n",
      "RangeIndex: 23494 entries, 0 to 23493\n",
      "Data columns (total 18 columns):\n",
      " #   Column                     Non-Null Count  Dtype \n",
      "---  ------                     --------------  ----- \n",
      " 0   auser_info_id              23494 non-null  object\n",
      " 1   extrc_word_nm              23494 non-null  object\n",
      " 2   info_obtn_dt               23494 non-null  object\n",
      " 3   auser_sxdst_cd             23494 non-null  object\n",
      " 4   age_group_cd               23494 non-null  int64 \n",
      " 5   occpn_nm                   13349 non-null  object\n",
      " 6   hshld_incm_group_nm        13325 non-null  object\n",
      " 7   mrrg_yn_nm                 23494 non-null  object\n",
      " 8   chdrn_yn_nm                23494 non-null  object\n",
      " 9   rsid_fom_nm                13333 non-null  object\n",
      " 10  auser_ara_ctprv_nm         23342 non-null  object\n",
      " 11  auser_ara_gu_nm            23342 non-null  object\n",
      " 12  auser_ara_dong_nm          23342 non-null  object\n",
      " 13  car_group_nm               7506 non-null   object\n",
      " 14  craln_tlphn_mkr_nm         13364 non-null  object\n",
      " 15  craln_tlphn_sbscr_cmpn_nm  13442 non-null  object\n",
      " 16  info_obtn_site_url         23494 non-null  object\n",
      " 17  info_obtn_site_subjc_nm    23494 non-null  object\n",
      "dtypes: int64(1), object(17)\n",
      "memory usage: 3.2+ MB\n",
      "None\n"
     ]
    }
   ],
   "source": [
    "import pandas as pd\n",
    "\n",
    "def print_csv_file_info(file_name):\n",
    "    file_df = pd.read_csv(f'./data/{file_name}', encoding='cp949')\n",
    "    print(file_df.info())\n",
    "\n",
    "for i in portal_files:\n",
    "    print_csv_file_info(i)\n",
    "\n",
    "file_paths = ['./data/' + file_name for file_name in portal_files]\n",
    "row_counts = []\n",
    "\n",
    "for file_path in file_paths:\n",
    "    try:\n",
    "        df = pd.read_csv(file_path, encoding='cp949')\n",
    "        row_counts.append(len(df))\n",
    "    except pd.errors.EmptyDataError:\n",
    "        row_counts.append(0)"
   ]
  },
  {
   "cell_type": "code",
   "execution_count": 66,
   "id": "76ceb697-9fbc-413f-8dc7-cbc0731678a0",
   "metadata": {},
   "outputs": [
    {
     "name": "stdout",
     "output_type": "stream",
     "text": [
      "[50937, 36729, 23494]\n",
      "111160\n"
     ]
    }
   ],
   "source": [
    "print(row_counts)\n",
    "sum = 0\n",
    "for i in row_counts:\n",
    "    sum += i\n",
    "print(sum)"
   ]
  },
  {
   "cell_type": "code",
   "execution_count": 67,
   "id": "4fc0a1e7-1966-4807-bcb1-695f86f1d371",
   "metadata": {},
   "outputs": [
    {
     "name": "stdout",
     "output_type": "stream",
     "text": [
      "자전거코스자전거길 관심인구 관심사관심분야(포털 검색 분야) 정보.csv\n",
      "자전거코스자전거길 관심인구 라이프스타일(온라인쇼핑몰 검색구매 카테고리) 정보.csv\n",
      "자전거코스자전거길 관심인구 정보.csv\n",
      "[4478, 6994, 4476, 5530, 2413, 3950]\n",
      "20대:  27841\n",
      "20대 여성:  11367\n",
      "20대 남성:  16474\n"
     ]
    }
   ],
   "source": [
    "sort_index = ['F', 'M', 'F', 'M', 'F', 'M']\n",
    "counts = []\n",
    "\n",
    "for idx, file_name in enumerate(portal_files):\n",
    "    print(file_name)\n",
    "    file_path = './data/' + file_name\n",
    "    file_df = pd.read_csv(file_path, encoding='cp949')\n",
    "    file_df['type'] = sort_index[idx]\n",
    "\n",
    "    twenty_df = file_df[file_df['age_group_cd'] == 2]\n",
    "    counts.append(len(twenty_df[twenty_df['auser_sxdst_cd'] == 'F']))\n",
    "    counts.append(len(twenty_df[twenty_df['auser_sxdst_cd'] == 'M']))\n",
    "\n",
    "print(counts)\n",
    "print(\"20대: \", counts[0]+counts[2]+counts[4]+counts[1]+counts[3]+counts[5])\n",
    "print(\"20대 여성: \", counts[0]+counts[2]+counts[4])\n",
    "print(\"20대 남성: \", counts[1]+counts[3]+counts[5])"
   ]
  },
  {
   "cell_type": "code",
   "execution_count": 68,
   "id": "e11cf659-197e-460e-b8b1-cef0f249aa16",
   "metadata": {},
   "outputs": [
    {
     "name": "stdout",
     "output_type": "stream",
     "text": [
      "자전거코스자전거길 관심인구 관심사관심분야(포털 검색 분야) 정보.csv\n",
      "자전거코스자전거길 관심인구 라이프스타일(온라인쇼핑몰 검색구매 카테고리) 정보.csv\n",
      "자전거코스자전거길 관심인구 정보.csv\n",
      "[7976, 9369, 4746, 6246, 2750, 4464]\n",
      "30대:  35551\n",
      "30대 여성:  15472\n",
      "30대 남성:  20079\n"
     ]
    }
   ],
   "source": [
    "sort_index = ['F', 'M', 'F', 'M', 'F', 'M']\n",
    "counts = []\n",
    "\n",
    "for idx, file_name in enumerate(portal_files):\n",
    "    print(file_name)\n",
    "    file_path = './data/' + file_name\n",
    "    file_df = pd.read_csv(file_path, encoding='cp949')\n",
    "    file_df['type'] = sort_index[idx]\n",
    "\n",
    "    twenty_df = file_df[file_df['age_group_cd'] == 3]\n",
    "    counts.append(len(twenty_df[twenty_df['auser_sxdst_cd'] == 'F']))\n",
    "    counts.append(len(twenty_df[twenty_df['auser_sxdst_cd'] == 'M']))\n",
    "\n",
    "print(counts)\n",
    "print(\"30대: \", counts[0]+counts[2]+counts[4]+counts[1]+counts[3]+counts[5])\n",
    "print(\"30대 여성: \", counts[0]+counts[2]+counts[4])\n",
    "print(\"30대 남성: \", counts[1]+counts[3]+counts[5])"
   ]
  },
  {
   "cell_type": "markdown",
   "id": "1387648e-14c7-4777-b4d3-cc35c2e19912",
   "metadata": {},
   "source": [
    "# 귀산촌"
   ]
  },
  {
   "cell_type": "code",
   "execution_count": 69,
   "id": "1f4681c7-2683-4414-9941-78dbb28db67d",
   "metadata": {},
   "outputs": [
    {
     "name": "stdout",
     "output_type": "stream",
     "text": [
      "['귀산촌 관심인구 관심사관심분야(포털 검색 분야) 정보.csv', '귀산촌 관심인구 라이프스타일(온라인쇼핑몰 검색구매 카테고리) 정보.csv', '귀산촌 관심인구 정보.csv']\n"
     ]
    }
   ],
   "source": [
    "import re\n",
    "pattern = r'.*귀산촌.*'\n",
    "re.compile(pattern)\n",
    "def is_match(file_name):\n",
    "    return re.match(pattern, file_name)\n",
    "\n",
    "portal_files = list(filter(is_match, file_names))\n",
    "print(portal_files)"
   ]
  },
  {
   "cell_type": "code",
   "execution_count": 70,
   "id": "e49d684a-f76c-443c-b249-4f45592fc91c",
   "metadata": {},
   "outputs": [
    {
     "name": "stdout",
     "output_type": "stream",
     "text": [
      "<class 'pandas.core.frame.DataFrame'>\n",
      "RangeIndex: 23941 entries, 0 to 23940\n",
      "Data columns (total 26 columns):\n",
      " #   Column                     Non-Null Count  Dtype \n",
      "---  ------                     --------------  ----- \n",
      " 0   auser_ntrs_id              23941 non-null  object\n",
      " 1   info_obtn_dt               23941 non-null  object\n",
      " 2   auser_sxdst_cd             23941 non-null  object\n",
      " 3   age_group_cd               23941 non-null  int64 \n",
      " 4   occpn_nm                   13985 non-null  object\n",
      " 5   hshld_incm_group_nm        13970 non-null  object\n",
      " 6   mrrg_yn_nm                 23941 non-null  object\n",
      " 7   chdrn_yn_nm                23941 non-null  object\n",
      " 8   rsid_fom_nm                13970 non-null  object\n",
      " 9   auser_ara_ctprv_nm         23807 non-null  object\n",
      " 10  auser_ara_gu_nm            23807 non-null  object\n",
      " 11  auser_ara_dong_nm          23807 non-null  object\n",
      " 12  car_group_nm               9510 non-null   object\n",
      " 13  craln_tlphn_mkr_nm         13996 non-null  object\n",
      " 14  craln_tlphn_sbscr_cmpn_nm  14043 non-null  object\n",
      " 15  pltc_dgnt_cont             835 non-null    object\n",
      " 16  ecnm_dgnt_cont             2273 non-null   object\n",
      " 17  sct_dgnt_cont              7533 non-null   object\n",
      " 18  lilhd_dgnt_cont            1378 non-null   object\n",
      " 19  wrld_dgnt_cont             1292 non-null   object\n",
      " 20  it_dgnt_cont               254 non-null    object\n",
      " 21  sprt_dgnt_cont             6384 non-null   object\n",
      " 22  tv_etmn_dgnt_cont          3992 non-null   object\n",
      " 23  main_ntrs_cd               23941 non-null  object\n",
      " 24  info_obtn_site_url         23941 non-null  object\n",
      " 25  info_obtn_site_subjc_nm    23941 non-null  object\n",
      "dtypes: int64(1), object(25)\n",
      "memory usage: 4.7+ MB\n",
      "None\n",
      "<class 'pandas.core.frame.DataFrame'>\n",
      "RangeIndex: 18211 entries, 0 to 18210\n",
      "Data columns (total 27 columns):\n",
      " #   Column                     Non-Null Count  Dtype \n",
      "---  ------                     --------------  ----- \n",
      " 0   auser_lfst_id              18211 non-null  object\n",
      " 1   info_obtn_dt               18211 non-null  object\n",
      " 2   auser_sxdst_cd             18211 non-null  object\n",
      " 3   age_group_cd               18211 non-null  int64 \n",
      " 4   occpn_nm                   10279 non-null  object\n",
      " 5   hshld_incm_group_nm        10265 non-null  object\n",
      " 6   mrrg_yn_nm                 18211 non-null  object\n",
      " 7   chdrn_yn_nm                18211 non-null  object\n",
      " 8   rsid_fom_nm                10265 non-null  object\n",
      " 9   auser_ara_ctprv_nm         18115 non-null  object\n",
      " 10  auser_ara_gu_nm            18115 non-null  object\n",
      " 11  auser_ara_dong_nm          18115 non-null  object\n",
      " 12  car_group_nm               7291 non-null   object\n",
      " 13  craln_tlphn_mkr_nm         10326 non-null  object\n",
      " 14  craln_tlphn_sbscr_cmpn_nm  10363 non-null  object\n",
      " 15  frnt_ntds_prfn_cont        443 non-null    object\n",
      " 16  dgtl_hmpl_prfn_cont        1245 non-null   object\n",
      " 17  lsur_car_prfn_cont         563 non-null    object\n",
      " 18  bty_prfn_cont              1878 non-null   object\n",
      " 19  lilhd_kchn_prfn_cont       3045 non-null   object\n",
      " 20  sprt_fshn_prfn_cont        249 non-null    object\n",
      " 21  grcs_helth_prfn_cont       3809 non-null   object\n",
      " 22  jrny_prfn_cont             388 non-null    object\n",
      " 23  fshn_wear_prfn_cont        3403 non-null   object\n",
      " 24  auser_fshn_stff_prfn_cont  3188 non-null   object\n",
      " 25  lfst_cd                    18211 non-null  object\n",
      " 26  info_obtn_site_url         18211 non-null  object\n",
      "dtypes: int64(1), object(26)\n",
      "memory usage: 3.8+ MB\n",
      "None\n",
      "<class 'pandas.core.frame.DataFrame'>\n",
      "RangeIndex: 13011 entries, 0 to 13010\n",
      "Data columns (total 18 columns):\n",
      " #   Column                     Non-Null Count  Dtype \n",
      "---  ------                     --------------  ----- \n",
      " 0   auser_info_id              13011 non-null  object\n",
      " 1   extrc_word_nm              13011 non-null  object\n",
      " 2   info_obtn_dt               13011 non-null  object\n",
      " 3   auser_sxdst_cd             13011 non-null  object\n",
      " 4   age_group_cd               13011 non-null  int64 \n",
      " 5   occpn_nm                   7360 non-null   object\n",
      " 6   hshld_incm_group_nm        7351 non-null   object\n",
      " 7   mrrg_yn_nm                 13011 non-null  object\n",
      " 8   chdrn_yn_nm                13011 non-null  object\n",
      " 9   rsid_fom_nm                7351 non-null   object\n",
      " 10  auser_ara_ctprv_nm         12937 non-null  object\n",
      " 11  auser_ara_gu_nm            12937 non-null  object\n",
      " 12  auser_ara_dong_nm          12937 non-null  object\n",
      " 13  car_group_nm               5224 non-null   object\n",
      " 14  craln_tlphn_mkr_nm         7382 non-null   object\n",
      " 15  craln_tlphn_sbscr_cmpn_nm  7404 non-null   object\n",
      " 16  info_obtn_site_url         13011 non-null  object\n",
      " 17  info_obtn_site_subjc_nm    13011 non-null  object\n",
      "dtypes: int64(1), object(17)\n",
      "memory usage: 1.8+ MB\n",
      "None\n"
     ]
    }
   ],
   "source": [
    "import pandas as pd\n",
    "\n",
    "def print_csv_file_info(file_name):\n",
    "    file_df = pd.read_csv(f'./data/{file_name}', encoding='cp949')\n",
    "    print(file_df.info())\n",
    "\n",
    "for i in portal_files:\n",
    "    print_csv_file_info(i)\n",
    "\n",
    "file_paths = ['./data/' + file_name for file_name in portal_files]\n",
    "row_counts = []\n",
    "\n",
    "for file_path in file_paths:\n",
    "    try:\n",
    "        df = pd.read_csv(file_path, encoding='cp949')\n",
    "        row_counts.append(len(df))\n",
    "    except pd.errors.EmptyDataError:\n",
    "        row_counts.append(0)"
   ]
  },
  {
   "cell_type": "code",
   "execution_count": 71,
   "id": "b889c1c4-0dca-4401-a50f-4b3c059c7a2f",
   "metadata": {},
   "outputs": [
    {
     "name": "stdout",
     "output_type": "stream",
     "text": [
      "[23941, 18211, 13011]\n",
      "55163\n"
     ]
    }
   ],
   "source": [
    "print(row_counts)\n",
    "sum = 0\n",
    "for i in row_counts:\n",
    "    sum += i\n",
    "print(sum)"
   ]
  },
  {
   "cell_type": "code",
   "execution_count": 72,
   "id": "f1402a1c-2e68-4b14-9d1b-9dac3be58682",
   "metadata": {},
   "outputs": [
    {
     "name": "stdout",
     "output_type": "stream",
     "text": [
      "귀산촌 관심인구 관심사관심분야(포털 검색 분야) 정보.csv\n",
      "귀산촌 관심인구 라이프스타일(온라인쇼핑몰 검색구매 카테고리) 정보.csv\n",
      "귀산촌 관심인구 정보.csv\n",
      "[327, 985, 259, 780, 185, 556]\n",
      "20대:  3092\n",
      "20대 여성:  771\n",
      "20대 남성:  2321\n"
     ]
    }
   ],
   "source": [
    "sort_index = ['F', 'M', 'F', 'M', 'F', 'M']\n",
    "counts = []\n",
    "\n",
    "for idx, file_name in enumerate(portal_files):\n",
    "    print(file_name)\n",
    "    file_path = './data/' + file_name\n",
    "    file_df = pd.read_csv(file_path, encoding='cp949')\n",
    "    file_df['type'] = sort_index[idx]\n",
    "\n",
    "    twenty_df = file_df[file_df['age_group_cd'] == 2]\n",
    "    counts.append(len(twenty_df[twenty_df['auser_sxdst_cd'] == 'F']))\n",
    "    counts.append(len(twenty_df[twenty_df['auser_sxdst_cd'] == 'M']))\n",
    "\n",
    "print(counts)\n",
    "print(\"20대: \", counts[0]+counts[2]+counts[4]+counts[1]+counts[3]+counts[5])\n",
    "print(\"20대 여성: \", counts[0]+counts[2]+counts[4])\n",
    "print(\"20대 남성: \", counts[1]+counts[3]+counts[5])"
   ]
  },
  {
   "cell_type": "code",
   "execution_count": 73,
   "id": "91378bf4-0853-476f-af05-9fc4fa20ed54",
   "metadata": {},
   "outputs": [
    {
     "name": "stdout",
     "output_type": "stream",
     "text": [
      "귀산촌 관심인구 관심사관심분야(포털 검색 분야) 정보.csv\n",
      "귀산촌 관심인구 라이프스타일(온라인쇼핑몰 검색구매 카테고리) 정보.csv\n",
      "귀산촌 관심인구 정보.csv\n",
      "[1143, 1224, 327, 970, 244, 691]\n",
      "30대:  4599\n",
      "30대 여성:  1714\n",
      "30대 남성:  2885\n"
     ]
    }
   ],
   "source": [
    "sort_index = ['F', 'M', 'F', 'M', 'F', 'M']\n",
    "counts = []\n",
    "\n",
    "for idx, file_name in enumerate(portal_files):\n",
    "    print(file_name)\n",
    "    file_path = './data/' + file_name\n",
    "    file_df = pd.read_csv(file_path, encoding='cp949')\n",
    "    file_df['type'] = sort_index[idx]\n",
    "\n",
    "    twenty_df = file_df[file_df['age_group_cd'] == 3]\n",
    "    counts.append(len(twenty_df[twenty_df['auser_sxdst_cd'] == 'F']))\n",
    "    counts.append(len(twenty_df[twenty_df['auser_sxdst_cd'] == 'M']))\n",
    "\n",
    "print(counts)\n",
    "print(\"30대: \", counts[0]+counts[2]+counts[4]+counts[1]+counts[3]+counts[5])\n",
    "print(\"30대 여성: \", counts[0]+counts[2]+counts[4])\n",
    "print(\"30대 남성: \", counts[1]+counts[3]+counts[5])"
   ]
  },
  {
   "cell_type": "code",
   "execution_count": 79,
   "id": "89d4727b-54f0-46af-a384-64d8da7f08d3",
   "metadata": {},
   "outputs": [
    {
     "name": "stdout",
     "output_type": "stream",
     "text": [
      "<class 'pandas.core.frame.DataFrame'>\n",
      "RangeIndex: 1060 entries, 0 to 1059\n",
      "Data columns (total 20 columns):\n",
      " #   Column                     Non-Null Count  Dtype \n",
      "---  ------                     --------------  ----- \n",
      " 0   pref_prgrm_id              1060 non-null   object\n",
      " 1   extrc_word_nm              1060 non-null   object\n",
      " 2   info_obtn_dt               1060 non-null   object\n",
      " 3   auser_sxdst_cd             1060 non-null   object\n",
      " 4   age_group_cd               1060 non-null   int64 \n",
      " 5   occpn_nm                   676 non-null    object\n",
      " 6   hshld_incm_group_nm        675 non-null    object\n",
      " 7   mrrg_yn_nm                 1060 non-null   object\n",
      " 8   chdrn_yn_nm                1060 non-null   object\n",
      " 9   rsid_fom_nm                675 non-null    object\n",
      " 10  auser_ara_ctprv_nm         1051 non-null   object\n",
      " 11  auser_ara_gu_nm            1051 non-null   object\n",
      " 12  auser_ara_dong_nm          1051 non-null   object\n",
      " 13  car_group_nm               375 non-null    object\n",
      " 14  craln_tlphn_mkr_nm         680 non-null    object\n",
      " 15  craln_tlphn_sbscr_cmpn_nm  684 non-null    object\n",
      " 16  pref_mnfrs_hlng_prgrm_nm   1060 non-null   object\n",
      " 17  info_obtn_site_url         1060 non-null   object\n",
      " 18  info_obtn_site_subjc_nm    1060 non-null   object\n",
      " 19  extrc_hd                   8 non-null      object\n",
      "dtypes: int64(1), object(19)\n",
      "memory usage: 165.8+ KB\n",
      "None\n"
     ]
    }
   ],
   "source": [
    "import pandas as pd\n",
    "\n",
    "def print_csv_file_info(file_name):\n",
    "    file_df = pd.read_csv(f'./data/{file_name}', encoding='cp949')\n",
    "    print(file_df.info())\n",
    "\n",
    "for i in portal_files:\n",
    "    print_csv_file_info(i)\n",
    "\n",
    "file_paths = ['./data/' + file_name for file_name in portal_files]\n",
    "row_counts = []\n",
    "\n",
    "for file_path in file_paths:\n",
    "    try:\n",
    "        df = pd.read_csv(file_path, encoding='cp949')\n",
    "        row_counts.append(len(df))\n",
    "    except pd.errors.EmptyDataError:\n",
    "        row_counts.append(0)"
   ]
  },
  {
   "cell_type": "markdown",
   "id": "792c4246-7d3b-49e8-af4f-26274e296b5c",
   "metadata": {},
   "source": [
    "## 준님 요청사항 결과"
   ]
  },
  {
   "cell_type": "code",
   "execution_count": 90,
   "id": "7215877b-727f-42fd-bba2-4cf53bc730ba",
   "metadata": {},
   "outputs": [
    {
     "name": "stdout",
     "output_type": "stream",
     "text": [
      "                Interest  Total Data     20s  20s Female  20s Male     30s  \\\n",
      "0          National Park      819400  111912       53759     58153  329523   \n",
      "1                  Trail      269495   29187       15000     14187   86033   \n",
      "2           Hiking Trail     1150747  158258       75290     82968  489859   \n",
      "3            Bike Course      111160   27841       11367     16474   35551   \n",
      "4  Gwisan Village Course       55163    3092         771      2321    4599   \n",
      "\n",
      "   30s Female  30s Male  \n",
      "0      219793    109730  \n",
      "1       54218     31815  \n",
      "2      290068    199791  \n",
      "3       15472     20079  \n",
      "4        1714      2885  \n"
     ]
    }
   ],
   "source": [
    "import pandas as pd\n",
    "import matplotlib.pyplot as plt\n",
    "\n",
    "# Define data\n",
    "data = {\n",
    "    'Interest': ['National Park', 'Trail', 'Hiking Trail', 'Bike Course', 'Gwisan Village Course'],\n",
    "    'Total Data': [819400, 269495, 1150747, 111160, 55163],\n",
    "    '20s': [111912, 29187, 158258, 27841, 3092],\n",
    "    '20s Female': [53759, 15000, 75290, 11367, 771],\n",
    "    '20s Male': [58153, 14187, 82968, 16474, 2321],\n",
    "    '30s': [329523, 86033, 489859, 35551, 4599],\n",
    "    '30s Female': [219793, 54218, 290068, 15472, 1714],\n",
    "    '30s Male': [109730, 31815, 199791, 20079, 2885]\n",
    "}\n",
    "\n",
    "# Create DataFrame\n",
    "df = pd.DataFrame(data)\n",
    "\n",
    "# Print DataFrame\n",
    "print(df)\n"
   ]
  },
  {
   "cell_type": "code",
   "execution_count": 91,
   "id": "1e51e007-39a2-4559-995a-14965e3d6029",
   "metadata": {},
   "outputs": [
    {
     "data": {
      "text/plain": [
       "<Figure size 1000x600 with 0 Axes>"
      ]
     },
     "metadata": {},
     "output_type": "display_data"
    },
    {
     "data": {
      "image/png": "[encoded data removed]",
      "text/plain": [
       "<Figure size 640x480 with 1 Axes>"
      ]
     },
     "metadata": {},
     "output_type": "display_data"
    }
   ],
   "source": [
    "# Graph settings\n",
    "plt.figure(figsize=(10, 6))\n",
    "\n",
    "# Draw graph\n",
    "df.plot(kind='bar', x='Interest', y=['20s Male', '20s Female', '30s Male', '30s Female'], stacked=True)\n",
    "plt.title('Interest Population of 20s and 30s by Gender')\n",
    "plt.xlabel('Interest')\n",
    "plt.ylabel('Population')\n",
    "\n",
    "# Add legend\n",
    "plt.legend(title='Age & Gender')\n",
    "\n",
    "# Show graph\n",
    "plt.show()\n"
   ]
  },
  {
   "cell_type": "code",
   "execution_count": 94,
   "id": "17515c9d-1a6b-4ad5-9930-a92e3a5005fa",
   "metadata": {},
   "outputs": [
    {
     "name": "stdout",
     "output_type": "stream",
     "text": [
      "Total sum of 20s: 330290\n",
      "Mean of 20s: 3002.6363636363635\n",
      "Total sum of 30s: 945565\n",
      "Mean of 30s: 8596.045454545454\n",
      "Total sum of 20s Male: 174103\n",
      "Mean of 20s Male: 1582.7545454545455\n",
      "Total sum of 20s Female: 156187\n",
      "Mean of 20s Female: 1419.8818181818183\n",
      "Total sum of 30s Male: 364300\n",
      "Mean of 30s Male: 3311.818181818182\n",
      "Total sum of 30s Female: 581265\n",
      "Mean of 30s Female: 5284.227272727273\n"
     ]
    }
   ],
   "source": [
    "# 각 관심사별 20대 전체 합과 평균 계산\n",
    "total_20s_sum = df['20s'].sum()\n",
    "total_20s_mean = df['20s'].mean()/22\n",
    "\n",
    "# 각 관심사별 30대 전체 합과 평균 계산\n",
    "total_30s_sum = df['30s'].sum()\n",
    "total_30s_mean = df['30s'].mean()/22\n",
    "\n",
    "# 각 연령대에서 성별별로 총 합과 평균 계산\n",
    "total_20s_male_sum = df['20s Male'].sum()\n",
    "total_20s_male_mean = df['20s Male'].mean()/22\n",
    "\n",
    "total_20s_female_sum = df['20s Female'].sum()\n",
    "total_20s_female_mean = df['20s Female'].mean()/22\n",
    "\n",
    "total_30s_male_sum = df['30s Male'].sum()\n",
    "total_30s_male_mean = df['30s Male'].mean()/22\n",
    "\n",
    "total_30s_female_sum = df['30s Female'].sum()\n",
    "total_30s_female_mean = df['30s Female'].mean()/22\n",
    "\n",
    "\n",
    "# 결과 출력\n",
    "print(\"Total sum of 20s:\", total_20s_sum)\n",
    "print(\"Mean of 20s:\", total_20s_mean)\n",
    "print(\"Total sum of 30s:\", total_30s_sum)\n",
    "print(\"Mean of 30s:\", total_30s_mean)\n",
    "\n",
    "\n",
    "# 결과 출력\n",
    "print(\"Total sum of 20s Male:\", total_20s_male_sum)\n",
    "print(\"Mean of 20s Male:\", total_20s_male_mean)\n",
    "print(\"Total sum of 20s Female:\", total_20s_female_sum)\n",
    "print(\"Mean of 20s Female:\", total_20s_female_mean)\n",
    "\n",
    "print(\"Total sum of 30s Male:\", total_30s_male_sum)\n",
    "print(\"Mean of 30s Male:\", total_30s_male_mean)\n",
    "print(\"Total sum of 30s Female:\", total_30s_female_sum)\n",
    "print(\"Mean of 30s Female:\", total_30s_female_mean)\n",
    "\n"
   ]
  },
  {
   "cell_type": "markdown",
   "id": "4321ef14-f582-49d7-8b7c-5d70f5e995f0",
   "metadata": {},
   "source": [
    "# 관심사관심분야(포털 검색 분야) 정보"
   ]
  },
  {
   "cell_type": "markdown",
   "id": "cb15299d-21f6-459c-8872-42485ca7a8c1",
   "metadata": {},
   "source": [
    "# 포털 검색"
   ]
  },
  {
   "cell_type": "code",
   "execution_count": 21,
   "id": "2daeb522-5502-44a9-99cc-04e7eb4579bb",
   "metadata": {},
   "outputs": [
    {
     "data": {
      "text/plain": [
       "re.compile(r'.*포털 검색.*', re.UNICODE)"
      ]
     },
     "execution_count": 21,
     "metadata": {},
     "output_type": "execute_result"
    }
   ],
   "source": [
    "import re\n",
    "pattern = r'.*포털 검색.*'\n",
    "re.compile(pattern)"
   ]
  },
  {
   "cell_type": "code",
   "execution_count": 22,
   "id": "531d70e7-87c8-437f-914c-51649452944a",
   "metadata": {},
   "outputs": [],
   "source": [
    "def is_match(file_name):\n",
    "    return re.match(pattern, file_name)\n",
    "\n",
    "portal_files = list(filter(is_match, file_names))"
   ]
  },
  {
   "cell_type": "code",
   "execution_count": 23,
   "id": "cf638a1a-298a-43b5-b2f5-c27b13f6d53c",
   "metadata": {},
   "outputs": [
    {
     "name": "stdout",
     "output_type": "stream",
     "text": [
      "['국립공원 관심인구 관심사관심분야(포털 검색 분야) 정보.csv', '귀산촌 관심인구 관심사관심분야(포털 검색 분야) 정보.csv', '둘레길 관심인구 관심사관심분야(포털 검색 분야) 정보.csv', '등산로 관심인구 관심사관심분야(포털 검색 분야) 정보.csv', '자전거코스자전거길 관심인구 관심사관심분야(포털 검색 분야) 정보.csv']\n"
     ]
    }
   ],
   "source": [
    "print(portal_files)"
   ]
  },
  {
   "cell_type": "code",
   "execution_count": 24,
   "id": "062485a4-5b8c-4d4c-981b-424c4f0c082d",
   "metadata": {},
   "outputs": [
    {
     "name": "stdout",
     "output_type": "stream",
     "text": [
      "<class 'pandas.core.frame.DataFrame'>\n",
      "RangeIndex: 625562 entries, 0 to 625561\n",
      "Data columns (total 26 columns):\n",
      " #   Column                     Non-Null Count   Dtype \n",
      "---  ------                     --------------   ----- \n",
      " 0   auser_ntrs_id              625562 non-null  object\n",
      " 1   info_obtn_dt               625562 non-null  object\n",
      " 2   auser_sxdst_cd             625562 non-null  object\n",
      " 3   age_group_cd               625562 non-null  int64 \n",
      " 4   occpn_nm                   624774 non-null  object\n",
      " 5   hshld_incm_group_nm        624774 non-null  object\n",
      " 6   mrrg_yn_nm                 625562 non-null  object\n",
      " 7   chdrn_yn_nm                625562 non-null  object\n",
      " 8   rsid_fom_nm                624774 non-null  object\n",
      " 9   auser_ara_ctprv_nm         625562 non-null  object\n",
      " 10  auser_ara_gu_nm            625562 non-null  object\n",
      " 11  auser_ara_dong_nm          625562 non-null  object\n",
      " 12  car_group_nm               387243 non-null  object\n",
      " 13  craln_tlphn_mkr_nm         624475 non-null  object\n",
      " 14  craln_tlphn_sbscr_cmpn_nm  624774 non-null  object\n",
      " 15  pltc_dgnt_cont             48673 non-null   object\n",
      " 16  ecnm_dgnt_cont             48715 non-null   object\n",
      " 17  sct_dgnt_cont              135228 non-null  object\n",
      " 18  lilhd_dgnt_cont            21841 non-null   object\n",
      " 19  wrld_dgnt_cont             26188 non-null   object\n",
      " 20  it_dgnt_cont               10222 non-null   object\n",
      " 21  sprt_dgnt_cont             225074 non-null  object\n",
      " 22  tv_etmn_dgnt_cont          109621 non-null  object\n",
      " 23  main_ntrs_cd               625562 non-null  object\n",
      " 24  info_obtn_site_url         625562 non-null  object\n",
      " 25  info_obtn_site_subjc_nm    625562 non-null  object\n",
      "dtypes: int64(1), object(25)\n",
      "memory usage: 124.1+ MB\n",
      "None\n",
      "<class 'pandas.core.frame.DataFrame'>\n",
      "RangeIndex: 23941 entries, 0 to 23940\n",
      "Data columns (total 26 columns):\n",
      " #   Column                     Non-Null Count  Dtype \n",
      "---  ------                     --------------  ----- \n",
      " 0   auser_ntrs_id              23941 non-null  object\n",
      " 1   info_obtn_dt               23941 non-null  object\n",
      " 2   auser_sxdst_cd             23941 non-null  object\n",
      " 3   age_group_cd               23941 non-null  int64 \n",
      " 4   occpn_nm                   13985 non-null  object\n",
      " 5   hshld_incm_group_nm        13970 non-null  object\n",
      " 6   mrrg_yn_nm                 23941 non-null  object\n",
      " 7   chdrn_yn_nm                23941 non-null  object\n",
      " 8   rsid_fom_nm                13970 non-null  object\n",
      " 9   auser_ara_ctprv_nm         23807 non-null  object\n",
      " 10  auser_ara_gu_nm            23807 non-null  object\n",
      " 11  auser_ara_dong_nm          23807 non-null  object\n",
      " 12  car_group_nm               9510 non-null   object\n",
      " 13  craln_tlphn_mkr_nm         13996 non-null  object\n",
      " 14  craln_tlphn_sbscr_cmpn_nm  14043 non-null  object\n",
      " 15  pltc_dgnt_cont             835 non-null    object\n",
      " 16  ecnm_dgnt_cont             2273 non-null   object\n",
      " 17  sct_dgnt_cont              7533 non-null   object\n",
      " 18  lilhd_dgnt_cont            1378 non-null   object\n",
      " 19  wrld_dgnt_cont             1292 non-null   object\n",
      " 20  it_dgnt_cont               254 non-null    object\n",
      " 21  sprt_dgnt_cont             6384 non-null   object\n",
      " 22  tv_etmn_dgnt_cont          3992 non-null   object\n",
      " 23  main_ntrs_cd               23941 non-null  object\n",
      " 24  info_obtn_site_url         23941 non-null  object\n",
      " 25  info_obtn_site_subjc_nm    23941 non-null  object\n",
      "dtypes: int64(1), object(25)\n",
      "memory usage: 4.7+ MB\n",
      "None\n",
      "<class 'pandas.core.frame.DataFrame'>\n",
      "RangeIndex: 156516 entries, 0 to 156515\n",
      "Data columns (total 26 columns):\n",
      " #   Column                     Non-Null Count   Dtype \n",
      "---  ------                     --------------   ----- \n",
      " 0   auser_ntrs_id              156516 non-null  object\n",
      " 1   info_obtn_dt               156516 non-null  object\n",
      " 2   auser_sxdst_cd             156516 non-null  object\n",
      " 3   age_group_cd               156516 non-null  int64 \n",
      " 4   auser_occpn_nm             119417 non-null  object\n",
      " 5   hshld_incm_group_nm        119353 non-null  object\n",
      " 6   mrrg_yn_nm                 156516 non-null  object\n",
      " 7   chdrn_yn_nm                156516 non-null  object\n",
      " 8   rsid_fom_nm                119359 non-null  object\n",
      " 9   auser_ara_ctprv_nm         156015 non-null  object\n",
      " 10  auser_ara_gu_nm            156015 non-null  object\n",
      " 11  auser_ara_dong_nm          156015 non-null  object\n",
      " 12  car_group_nm               68507 non-null   object\n",
      " 13  craln_tlphn_mkr_nm         119610 non-null  object\n",
      " 14  craln_tlphn_sbscr_cmpn_nm  119898 non-null  object\n",
      " 15  pltc_dgnt_cont             14396 non-null   object\n",
      " 16  ecnm_dgnt_cont             13976 non-null   object\n",
      " 17  sct_dgnt_cont              45226 non-null   object\n",
      " 18  lilhd_dgnt_cont            7095 non-null    object\n",
      " 19  wrld_dgnt_cont             8110 non-null    object\n",
      " 20  it_dgnt_cont               2916 non-null    object\n",
      " 21  sprt_dgnt_cont             30671 non-null   object\n",
      " 22  tv_etmn_dgnt_cont          34126 non-null   object\n",
      " 23  main_ntrs_cd               156516 non-null  object\n",
      " 24  info_obtn_site_url         156516 non-null  object\n",
      " 25  info_obtn_site_subjc_nm    156516 non-null  object\n",
      "dtypes: int64(1), object(25)\n",
      "memory usage: 31.0+ MB\n",
      "None\n",
      "<class 'pandas.core.frame.DataFrame'>\n",
      "RangeIndex: 873021 entries, 0 to 873020\n",
      "Data columns (total 26 columns):\n",
      " #   Column                     Non-Null Count   Dtype \n",
      "---  ------                     --------------   ----- \n",
      " 0   auser_ntrs_id              873021 non-null  object\n",
      " 1   info_obtn_dt               873021 non-null  object\n",
      " 2   auser_sxdst_cd             873021 non-null  object\n",
      " 3   age_group_cd               873021 non-null  int64 \n",
      " 4   auser_occpn_nm             872331 non-null  object\n",
      " 5   hshld_incm_group_nm        872331 non-null  object\n",
      " 6   mrrg_yn_nm                 873021 non-null  object\n",
      " 7   chdrn_yn_nm                873021 non-null  object\n",
      " 8   rsid_fom_nm                872331 non-null  object\n",
      " 9   auser_ara_ctprv_nm         873021 non-null  object\n",
      " 10  auser_ara_gu_nm            873021 non-null  object\n",
      " 11  auser_ara_dong_nm          873021 non-null  object\n",
      " 12  car_group_nm               544322 non-null  object\n",
      " 13  craln_tlphn_mkr_nm         871841 non-null  object\n",
      " 14  craln_tlphn_sbscr_cmpn_nm  872350 non-null  object\n",
      " 15  pltc_dgnt_cont             64901 non-null   object\n",
      " 16  ecnm_dgnt_cont             64264 non-null   object\n",
      " 17  sct_dgnt_cont              174667 non-null  object\n",
      " 18  lilhd_dgnt_cont            27370 non-null   object\n",
      " 19  wrld_dgnt_cont             31976 non-null   object\n",
      " 20  it_dgnt_cont               13454 non-null   object\n",
      " 21  sprt_dgnt_cont             352476 non-null  object\n",
      " 22  tv_etmn_dgnt_cont          143913 non-null  object\n",
      " 23  main_ntrs_cd               873021 non-null  object\n",
      " 24  info_obtn_site_url         873021 non-null  object\n",
      " 25  info_obtn_site_subjc_nm    873021 non-null  object\n",
      "dtypes: int64(1), object(25)\n",
      "memory usage: 173.2+ MB\n",
      "None\n",
      "<class 'pandas.core.frame.DataFrame'>\n",
      "RangeIndex: 50937 entries, 0 to 50936\n",
      "Data columns (total 26 columns):\n",
      " #   Column                     Non-Null Count  Dtype \n",
      "---  ------                     --------------  ----- \n",
      " 0   auser_ntrs_id              50937 non-null  object\n",
      " 1   info_obtn_dt               50937 non-null  object\n",
      " 2   auser_sxdst_cd             50937 non-null  object\n",
      " 3   age_group_cd               50937 non-null  int64 \n",
      " 4   occpn_nm                   32933 non-null  object\n",
      " 5   hshld_incm_group_nm        32901 non-null  object\n",
      " 6   mrrg_yn_nm                 50937 non-null  object\n",
      " 7   chdrn_yn_nm                50937 non-null  object\n",
      " 8   rsid_fom_nm                32909 non-null  object\n",
      " 9   auser_ara_ctprv_nm         50679 non-null  object\n",
      " 10  auser_ara_gu_nm            50679 non-null  object\n",
      " 11  auser_ara_dong_nm          50679 non-null  object\n",
      " 12  car_group_nm               18590 non-null  object\n",
      " 13  craln_tlphn_mkr_nm         32984 non-null  object\n",
      " 14  craln_tlphn_sbscr_cmpn_nm  33090 non-null  object\n",
      " 15  pltc_dgnt_cont             3481 non-null   object\n",
      " 16  ecnm_dgnt_cont             3576 non-null   object\n",
      " 17  sct_dgnt_cont              19835 non-null  object\n",
      " 18  lilhd_dgnt_cont            2109 non-null   object\n",
      " 19  wrld_dgnt_cont             2729 non-null   object\n",
      " 20  it_dgnt_cont               521 non-null    object\n",
      " 21  sprt_dgnt_cont             13534 non-null  object\n",
      " 22  tv_etmn_dgnt_cont          5152 non-null   object\n",
      " 23  main_ntrs_cd               50937 non-null  object\n",
      " 24  info_obtn_site_url         50937 non-null  object\n",
      " 25  info_obtn_site_subjc_nm    50937 non-null  object\n",
      "dtypes: int64(1), object(25)\n",
      "memory usage: 10.1+ MB\n",
      "None\n"
     ]
    }
   ],
   "source": [
    "import pandas as pd\n",
    "\n",
    "def print_csv_file_info(file_name):\n",
    "    file_df = pd.read_csv(f'./data/{file_name}', encoding='cp949')\n",
    "    print(file_df.info())\n",
    "\n",
    "for i in portal_files:\n",
    "    print_csv_file_info(i)"
   ]
  },
  {
   "cell_type": "code",
   "execution_count": 27,
   "id": "f547e66d-c73d-4bda-b649-5584f44b2e3c",
   "metadata": {},
   "outputs": [
    {
     "data": {
      "image/png": "[encoded data removed]",
      "text/plain": [
       "<Figure size 640x480 with 1 Axes>"
      ]
     },
     "metadata": {},
     "output_type": "display_data"
    }
   ],
   "source": [
    "import pandas as pd\n",
    "import matplotlib.pyplot as plt\n",
    "\n",
    "sort_index = ['gukrip', 'gwisan', 'dulle', 'deungsan', 'jajeongeo']\n",
    "file_paths = ['./data/' + file_name for file_name in portal_files]\n",
    "row_counts = []\n",
    "\n",
    "for file_path in file_paths:\n",
    "    try:\n",
    "        df = pd.read_csv(file_path, encoding='cp949')\n",
    "        row_counts.append(len(df))\n",
    "    except pd.errors.EmptyDataError:\n",
    "        row_counts.append(0)\n",
    "\n",
    "data = {'File': sort_index, 'Row Count': row_counts}\n",
    "row_count_df = pd.DataFrame(data)\n",
    "\n",
    "plt.bar(row_count_df['File'], row_count_df['Row Count'])\n",
    "plt.xlabel('File Name')\n",
    "plt.ylabel('Row Count')\n",
    "plt.title('Number of Rows in Each File')\n",
    "plt.xticks(rotation=45, ha='right')\n",
    "plt.show()\n",
    "\n"
   ]
  },
  {
   "cell_type": "code",
   "execution_count": 29,
   "id": "808e8dbb-26e2-49c6-bc4a-62cd66628789",
   "metadata": {},
   "outputs": [
    {
     "name": "stdout",
     "output_type": "stream",
     "text": [
      "        File  Row Count\n",
      "0     gukrip     625562\n",
      "1     gwisan      23941\n",
      "2      dulle     156516\n",
      "3   deungsan     873021\n",
      "4  jajeongeo      50937\n",
      "1729977\n"
     ]
    }
   ],
   "source": [
    "print(row_count_df)\n",
    "sum =0\n",
    "for i in data['Row Count']:\n",
    "    sum+=i\n",
    "print(sum)"
   ]
  },
  {
   "cell_type": "code",
   "execution_count": 32,
   "id": "8c6f09b5-d0d2-4e5a-9fb2-bf5d31f9c7bf",
   "metadata": {},
   "outputs": [
    {
     "name": "stdout",
     "output_type": "stream",
     "text": [
      "국립공원 관심인구 관심사관심분야(포털 검색 분야) 정보.csv\n",
      "귀산촌 관심인구 관심사관심분야(포털 검색 분야) 정보.csv\n",
      "둘레길 관심인구 관심사관심분야(포털 검색 분야) 정보.csv\n",
      "등산로 관심인구 관심사관심분야(포털 검색 분야) 정보.csv\n",
      "자전거코스자전거길 관심인구 관심사관심분야(포털 검색 분야) 정보.csv\n"
     ]
    },
    {
     "data": {
      "text/html": [
       "<div>\n",
       "<style scoped>\n",
       "    .dataframe tbody tr th:only-of-type {\n",
       "        vertical-align: middle;\n",
       "    }\n",
       "\n",
       "    .dataframe tbody tr th {\n",
       "        vertical-align: top;\n",
       "    }\n",
       "\n",
       "    .dataframe thead th {\n",
       "        text-align: right;\n",
       "    }\n",
       "</style>\n",
       "<table border=\"1\" class=\"dataframe\">\n",
       "  <thead>\n",
       "    <tr style=\"text-align: right;\">\n",
       "      <th></th>\n",
       "      <th>auser_ntrs_id</th>\n",
       "      <th>info_obtn_dt</th>\n",
       "      <th>auser_sxdst_cd</th>\n",
       "      <th>age_group_cd</th>\n",
       "      <th>occpn_nm</th>\n",
       "      <th>hshld_incm_group_nm</th>\n",
       "      <th>mrrg_yn_nm</th>\n",
       "      <th>chdrn_yn_nm</th>\n",
       "      <th>rsid_fom_nm</th>\n",
       "      <th>auser_ara_ctprv_nm</th>\n",
       "      <th>...</th>\n",
       "      <th>lilhd_dgnt_cont</th>\n",
       "      <th>wrld_dgnt_cont</th>\n",
       "      <th>it_dgnt_cont</th>\n",
       "      <th>sprt_dgnt_cont</th>\n",
       "      <th>tv_etmn_dgnt_cont</th>\n",
       "      <th>main_ntrs_cd</th>\n",
       "      <th>info_obtn_site_url</th>\n",
       "      <th>info_obtn_site_subjc_nm</th>\n",
       "      <th>type</th>\n",
       "      <th>auser_occpn_nm</th>\n",
       "    </tr>\n",
       "  </thead>\n",
       "  <tbody>\n",
       "    <tr>\n",
       "      <th>80</th>\n",
       "      <td>C***</td>\n",
       "      <td>201903**</td>\n",
       "      <td>M</td>\n",
       "      <td>2</td>\n",
       "      <td>학생 (초중고학생, 대학생, 대학원생)</td>\n",
       "      <td>800~899만원</td>\n",
       "      <td>아니오</td>\n",
       "      <td></td>\n",
       "      <td>아파트/ 주상복합</td>\n",
       "      <td>경기</td>\n",
       "      <td>...</td>\n",
       "      <td>NaN</td>\n",
       "      <td>NaN</td>\n",
       "      <td>NaN</td>\n",
       "      <td>스포츠</td>\n",
       "      <td>NaN</td>\n",
       "      <td>스포츠</td>\n",
       "      <td>https://m.sports.naver.com/wbaseball/news/read...</td>\n",
       "      <td>하퍼 13년 3억3천만$ 필라델피아행…ML 역사 최대 계약 :: 네이버스포츠</td>\n",
       "      <td>gukrip</td>\n",
       "      <td>NaN</td>\n",
       "    </tr>\n",
       "    <tr>\n",
       "      <th>81</th>\n",
       "      <td>C***</td>\n",
       "      <td>201903**</td>\n",
       "      <td>M</td>\n",
       "      <td>2</td>\n",
       "      <td>학생 (초중고학생, 대학생, 대학원생)</td>\n",
       "      <td>800~899만원</td>\n",
       "      <td>아니오</td>\n",
       "      <td></td>\n",
       "      <td>아파트/ 주상복합</td>\n",
       "      <td>경기</td>\n",
       "      <td>...</td>\n",
       "      <td>NaN</td>\n",
       "      <td>NaN</td>\n",
       "      <td>NaN</td>\n",
       "      <td>스포츠</td>\n",
       "      <td>NaN</td>\n",
       "      <td>스포츠</td>\n",
       "      <td>https://m.sports.naver.com/basketball/index.nhn</td>\n",
       "      <td>농구 : 네이버 스포츠</td>\n",
       "      <td>gukrip</td>\n",
       "      <td>NaN</td>\n",
       "    </tr>\n",
       "    <tr>\n",
       "      <th>82</th>\n",
       "      <td>C***</td>\n",
       "      <td>201903**</td>\n",
       "      <td>M</td>\n",
       "      <td>2</td>\n",
       "      <td>학생 (초중고학생, 대학생, 대학원생)</td>\n",
       "      <td>800~899만원</td>\n",
       "      <td>아니오</td>\n",
       "      <td></td>\n",
       "      <td>아파트/ 주상복합</td>\n",
       "      <td>경기</td>\n",
       "      <td>...</td>\n",
       "      <td>NaN</td>\n",
       "      <td>NaN</td>\n",
       "      <td>NaN</td>\n",
       "      <td>스포츠</td>\n",
       "      <td>NaN</td>\n",
       "      <td>스포츠</td>\n",
       "      <td>https://m.sports.naver.com/basketball/news/rea...</td>\n",
       "      <td>수비 지적 받는 르브론 상관없다 내 동기부여는 비판 아닌 승리 :: 네이버스포츠</td>\n",
       "      <td>gukrip</td>\n",
       "      <td>NaN</td>\n",
       "    </tr>\n",
       "    <tr>\n",
       "      <th>83</th>\n",
       "      <td>C***</td>\n",
       "      <td>201903**</td>\n",
       "      <td>M</td>\n",
       "      <td>2</td>\n",
       "      <td>학생 (초중고학생, 대학생, 대학원생)</td>\n",
       "      <td>800~899만원</td>\n",
       "      <td>아니오</td>\n",
       "      <td></td>\n",
       "      <td>아파트/ 주상복합</td>\n",
       "      <td>경기</td>\n",
       "      <td>...</td>\n",
       "      <td>NaN</td>\n",
       "      <td>NaN</td>\n",
       "      <td>NaN</td>\n",
       "      <td>스포츠</td>\n",
       "      <td>NaN</td>\n",
       "      <td>스포츠</td>\n",
       "      <td>https://m.sports.naver.com/wfootball/index.nhn</td>\n",
       "      <td>해외축구 : 네이버 스포츠</td>\n",
       "      <td>gukrip</td>\n",
       "      <td>NaN</td>\n",
       "    </tr>\n",
       "    <tr>\n",
       "      <th>84</th>\n",
       "      <td>C***</td>\n",
       "      <td>201903**</td>\n",
       "      <td>M</td>\n",
       "      <td>2</td>\n",
       "      <td>학생 (초중고학생, 대학생, 대학원생)</td>\n",
       "      <td>800~899만원</td>\n",
       "      <td>아니오</td>\n",
       "      <td></td>\n",
       "      <td>아파트/ 주상복합</td>\n",
       "      <td>경기</td>\n",
       "      <td>...</td>\n",
       "      <td>NaN</td>\n",
       "      <td>NaN</td>\n",
       "      <td>NaN</td>\n",
       "      <td>스포츠</td>\n",
       "      <td>NaN</td>\n",
       "      <td>스포츠</td>\n",
       "      <td>https://m.sports.naver.com/wfootball/news/read...</td>\n",
       "      <td>포체티노의 실언 英레전드 내가 케인-알리라면 토트넘 떠난다 :: 네이버스포츠</td>\n",
       "      <td>gukrip</td>\n",
       "      <td>NaN</td>\n",
       "    </tr>\n",
       "  </tbody>\n",
       "</table>\n",
       "<p>5 rows × 28 columns</p>\n",
       "</div>"
      ],
      "text/plain": [
       "   auser_ntrs_id info_obtn_dt auser_sxdst_cd  age_group_cd  \\\n",
       "80          C***     201903**              M             2   \n",
       "81          C***     201903**              M             2   \n",
       "82          C***     201903**              M             2   \n",
       "83          C***     201903**              M             2   \n",
       "84          C***     201903**              M             2   \n",
       "\n",
       "                 occpn_nm hshld_incm_group_nm mrrg_yn_nm chdrn_yn_nm  \\\n",
       "80  학생 (초중고학생, 대학생, 대학원생)           800~899만원        아니오               \n",
       "81  학생 (초중고학생, 대학생, 대학원생)           800~899만원        아니오               \n",
       "82  학생 (초중고학생, 대학생, 대학원생)           800~899만원        아니오               \n",
       "83  학생 (초중고학생, 대학생, 대학원생)           800~899만원        아니오               \n",
       "84  학생 (초중고학생, 대학생, 대학원생)           800~899만원        아니오               \n",
       "\n",
       "   rsid_fom_nm auser_ara_ctprv_nm  ... lilhd_dgnt_cont wrld_dgnt_cont  \\\n",
       "80   아파트/ 주상복합                 경기  ...             NaN            NaN   \n",
       "81   아파트/ 주상복합                 경기  ...             NaN            NaN   \n",
       "82   아파트/ 주상복합                 경기  ...             NaN            NaN   \n",
       "83   아파트/ 주상복합                 경기  ...             NaN            NaN   \n",
       "84   아파트/ 주상복합                 경기  ...             NaN            NaN   \n",
       "\n",
       "   it_dgnt_cont sprt_dgnt_cont tv_etmn_dgnt_cont main_ntrs_cd  \\\n",
       "80          NaN            스포츠               NaN          스포츠   \n",
       "81          NaN            스포츠               NaN          스포츠   \n",
       "82          NaN            스포츠               NaN          스포츠   \n",
       "83          NaN            스포츠               NaN          스포츠   \n",
       "84          NaN            스포츠               NaN          스포츠   \n",
       "\n",
       "                                   info_obtn_site_url  \\\n",
       "80  https://m.sports.naver.com/wbaseball/news/read...   \n",
       "81    https://m.sports.naver.com/basketball/index.nhn   \n",
       "82  https://m.sports.naver.com/basketball/news/rea...   \n",
       "83     https://m.sports.naver.com/wfootball/index.nhn   \n",
       "84  https://m.sports.naver.com/wfootball/news/read...   \n",
       "\n",
       "                         info_obtn_site_subjc_nm    type auser_occpn_nm  \n",
       "80    하퍼 13년 3억3천만$ 필라델피아행…ML 역사 최대 계약 :: 네이버스포츠  gukrip            NaN  \n",
       "81                                  농구 : 네이버 스포츠  gukrip            NaN  \n",
       "82  수비 지적 받는 르브론 상관없다 내 동기부여는 비판 아닌 승리 :: 네이버스포츠  gukrip            NaN  \n",
       "83                                해외축구 : 네이버 스포츠  gukrip            NaN  \n",
       "84    포체티노의 실언 英레전드 내가 케인-알리라면 토트넘 떠난다 :: 네이버스포츠  gukrip            NaN  \n",
       "\n",
       "[5 rows x 28 columns]"
      ]
     },
     "execution_count": 32,
     "metadata": {},
     "output_type": "execute_result"
    }
   ],
   "source": [
    "df = pd.DataFrame()\n",
    "sort_index = ['gukrip', 'gwisan', 'dulle', 'deungsan', 'jajeongeo']\n",
    "counts = []\n",
    "\n",
    "for idx, file_name in enumerate(portal_files):\n",
    "    print(file_name)\n",
    "    file_path = './data/' + file_name\n",
    "    file_df = pd.read_csv(file_path, encoding='cp949')\n",
    "    file_df['type'] = sort_index[idx]\n",
    "    \n",
    "    counts.append(len(file_df[file_df['age_group_cd'] == 2]))\n",
    "    df = pd.concat([df, file_df[file_df['age_group_cd'] == 2]])\n",
    "\n",
    "df.head()"
   ]
  },
  {
   "cell_type": "code",
   "execution_count": 33,
   "id": "4c52f19f-a275-4523-9af6-06a7b04bb51f",
   "metadata": {},
   "outputs": [
    {
     "data": {
      "image/png": "[encoded data removed]",
      "text/plain": [
       "<Figure size 640x480 with 1 Axes>"
      ]
     },
     "metadata": {},
     "output_type": "display_data"
    }
   ],
   "source": [
    "data = {'File': sort_index, 'Count': counts}\n",
    "count_df = pd.DataFrame(data)\n",
    "\n",
    "plt.bar(count_df['File'], count_df['Count'])\n",
    "plt.xlabel('File Name')\n",
    "plt.ylabel('Row Count')\n",
    "plt.title('Number of Rows in Each File')\n",
    "plt.xticks(rotation=45, ha='right')\n",
    "plt.show()"
   ]
  },
  {
   "cell_type": "code",
   "execution_count": 35,
   "id": "7e0401ec-b738-49a6-ad3e-e35fd781d96a",
   "metadata": {},
   "outputs": [
    {
     "name": "stdout",
     "output_type": "stream",
     "text": [
      "국립공원 관심인구 관심사관심분야(포털 검색 분야) 정보.csv\n",
      "귀산촌 관심인구 관심사관심분야(포털 검색 분야) 정보.csv\n",
      "둘레길 관심인구 관심사관심분야(포털 검색 분야) 정보.csv\n",
      "등산로 관심인구 관심사관심분야(포털 검색 분야) 정보.csv\n",
      "자전거코스자전거길 관심인구 관심사관심분야(포털 검색 분야) 정보.csv\n"
     ]
    },
    {
     "data": {
      "text/html": [
       "<div>\n",
       "<style scoped>\n",
       "    .dataframe tbody tr th:only-of-type {\n",
       "        vertical-align: middle;\n",
       "    }\n",
       "\n",
       "    .dataframe tbody tr th {\n",
       "        vertical-align: top;\n",
       "    }\n",
       "\n",
       "    .dataframe thead th {\n",
       "        text-align: right;\n",
       "    }\n",
       "</style>\n",
       "<table border=\"1\" class=\"dataframe\">\n",
       "  <thead>\n",
       "    <tr style=\"text-align: right;\">\n",
       "      <th></th>\n",
       "    </tr>\n",
       "  </thead>\n",
       "  <tbody>\n",
       "  </tbody>\n",
       "</table>\n",
       "</div>"
      ],
      "text/plain": [
       "Empty DataFrame\n",
       "Columns: []\n",
       "Index: []"
      ]
     },
     "execution_count": 35,
     "metadata": {},
     "output_type": "execute_result"
    }
   ],
   "source": [
    "df = pd.DataFrame()\n",
    "sort_index = ['gukrip_F', 'gukrip_M', 'gwisan_F', 'gwisan_M', 'dulle_F', 'dulle_M', 'deungsan_F', 'deungsan_M', 'jajeongeo_F', 'jajeongeo']\n",
    "counts = []\n",
    "\n",
    "for idx, file_name in enumerate(portal_files):\n",
    "    print(file_name)\n",
    "    file_path = './data/' + file_name\n",
    "    file_df = pd.read_csv(file_path, encoding='cp949')\n",
    "    file_df['type'] = sort_index[idx]\n",
    "\n",
    "    twenty_df = file_df[file_df['age_group_cd'] == 2]\n",
    "    counts.append(len(twenty_df[twenty_df['auser_sxdst_cd'] == 'F']))\n",
    "    counts.append(len(twenty_df[twenty_df['auser_sxdst_cd'] == 'M']))\n",
    "\n",
    "df.head()"
   ]
  },
  {
   "cell_type": "code",
   "execution_count": 40,
   "id": "136e1d31-0621-4d9e-b420-da49f9e128c7",
   "metadata": {},
   "outputs": [
    {
     "name": "stdout",
     "output_type": "stream",
     "text": [
      "[33100, 55394, 327, 985, 6676, 8207, 46635, 77648, 4478, 6994]\n"
     ]
    }
   ],
   "source": [
    "print(counts)"
   ]
  },
  {
   "cell_type": "code",
   "execution_count": 36,
   "id": "d35033a5-8779-4c50-8462-d00fa5fb1926",
   "metadata": {},
   "outputs": [
    {
     "data": {
      "image/png": "[encoded data removed]",
      "text/plain": [
       "<Figure size 640x480 with 1 Axes>"
      ]
     },
     "metadata": {},
     "output_type": "display_data"
    }
   ],
   "source": [
    "data = {'File': sort_index, 'Count': counts}\n",
    "count_df = pd.DataFrame(data)\n",
    "colors = ['blue', 'green', 'blue', 'green', 'blue', 'green', 'blue', 'green']\n",
    "\n",
    "plt.bar(count_df['File'], count_df['Count'], color=colors)\n",
    "plt.xlabel('File Name')\n",
    "plt.ylabel('Row Count')\n",
    "plt.title('Number of Rows in Each File')\n",
    "plt.xticks(rotation=45, ha='right')\n",
    "plt.show()"
   ]
  },
  {
   "cell_type": "markdown",
   "id": "e98d8a65-5ffe-4a96-9eed-03a890052705",
   "metadata": {},
   "source": [
    "# 라이프스타일(온라인쇼핑몰 이용 카테고리 정보)"
   ]
  },
  {
   "cell_type": "code",
   "execution_count": 23,
   "id": "2e2bd0b7-28a9-4eae-9823-35b84378901f",
   "metadata": {},
   "outputs": [
    {
     "data": {
      "text/plain": [
       "re.compile(r'.*라이프.*', re.UNICODE)"
      ]
     },
     "execution_count": 23,
     "metadata": {},
     "output_type": "execute_result"
    }
   ],
   "source": [
    "import re\n",
    "pattern = r'.*라이프.*'\n",
    "re.compile(pattern)"
   ]
  },
  {
   "cell_type": "code",
   "execution_count": 24,
   "id": "2ae319f5-27eb-4351-8588-9087a1952590",
   "metadata": {},
   "outputs": [
    {
     "name": "stdout",
     "output_type": "stream",
     "text": [
      "['국립공원 관심인구 라이프스타일(온라인쇼핑몰 이용 카테고리 정보).csv', '귀산촌 관심인구 라이프스타일(온라인쇼핑몰 검색구매 카테고리) 정보.csv', '둘레길 관심인구 라이프스타일(온라인쇼핑몰 이용 카테고리 정보).csv', '등산로 관심인구 라이프스타일(온라인쇼핑몰 이용 카테고리 정보).csv', '자전거코스자전거길 관심인구 라이프스타일(온라인쇼핑몰 검색구매 카테고리) 정보.csv']\n"
     ]
    }
   ],
   "source": [
    "def is_match(file_name):\n",
    "    return re.match(pattern, file_name)\n",
    "\n",
    "portal_files = list(filter(is_match, file_names))\n",
    "print(portal_files)"
   ]
  },
  {
   "cell_type": "code",
   "execution_count": 25,
   "id": "b48bcc45-97ca-4aec-9d83-899aabb63573",
   "metadata": {},
   "outputs": [
    {
     "name": "stdout",
     "output_type": "stream",
     "text": [
      "<class 'pandas.core.frame.DataFrame'>\n",
      "RangeIndex: 173928 entries, 0 to 173927\n",
      "Data columns (total 27 columns):\n",
      " #   Column                     Non-Null Count   Dtype \n",
      "---  ------                     --------------   ----- \n",
      " 0   auser_lfst_id              173928 non-null  object\n",
      " 1   info_obtn_dt               173928 non-null  object\n",
      " 2   auser_sxdst_cd             173928 non-null  object\n",
      " 3   age_group_cd               173928 non-null  int64 \n",
      " 4   occpn_nm                   173621 non-null  object\n",
      " 5   hshld_incm_group_nm        173621 non-null  object\n",
      " 6   mrrg_yn_nm                 173928 non-null  object\n",
      " 7   chdrn_yn_nm                173928 non-null  object\n",
      " 8   rsid_fom_nm                173621 non-null  object\n",
      " 9   auser_ara_ctprv_nm         173928 non-null  object\n",
      " 10  auser_ara_gu_nm            173928 non-null  object\n",
      " 11  auser_ara_dong_nm          173928 non-null  object\n",
      " 12  car_group_nm               100721 non-null  object\n",
      " 13  craln_tlphn_mkr_nm         173534 non-null  object\n",
      " 14  craln_tlphn_sbscr_cmpn_nm  173621 non-null  object\n",
      " 15  frnt_ntds_prfn_cont        6265 non-null    object\n",
      " 16  dgtl_hmpl_prfn_cont        17517 non-null   object\n",
      " 17  lsur_car_prfn_cont         6572 non-null    object\n",
      " 18  bty_prfn_cont              20099 non-null   object\n",
      " 19  lilhd_kchn_prfn_cont       24056 non-null   object\n",
      " 20  sprt_fshn_prfn_cont        3645 non-null    object\n",
      " 21  grcs_helth_prfn_cont       44094 non-null   object\n",
      " 22  jrny_prfn_cont             3672 non-null    object\n",
      " 23  fshn_wear_prfn_cont        29213 non-null   object\n",
      " 24  auser_fshn_stff_prfn_cont  18795 non-null   object\n",
      " 25  lfst_cd                    173928 non-null  object\n",
      " 26  info_obtn_site_url         173928 non-null  object\n",
      "dtypes: int64(1), object(26)\n",
      "memory usage: 35.8+ MB\n",
      "None\n",
      "<class 'pandas.core.frame.DataFrame'>\n",
      "RangeIndex: 18211 entries, 0 to 18210\n",
      "Data columns (total 27 columns):\n",
      " #   Column                     Non-Null Count  Dtype \n",
      "---  ------                     --------------  ----- \n",
      " 0   auser_lfst_id              18211 non-null  object\n",
      " 1   info_obtn_dt               18211 non-null  object\n",
      " 2   auser_sxdst_cd             18211 non-null  object\n",
      " 3   age_group_cd               18211 non-null  int64 \n",
      " 4   occpn_nm                   10279 non-null  object\n",
      " 5   hshld_incm_group_nm        10265 non-null  object\n",
      " 6   mrrg_yn_nm                 18211 non-null  object\n",
      " 7   chdrn_yn_nm                18211 non-null  object\n",
      " 8   rsid_fom_nm                10265 non-null  object\n",
      " 9   auser_ara_ctprv_nm         18115 non-null  object\n",
      " 10  auser_ara_gu_nm            18115 non-null  object\n",
      " 11  auser_ara_dong_nm          18115 non-null  object\n",
      " 12  car_group_nm               7291 non-null   object\n",
      " 13  craln_tlphn_mkr_nm         10326 non-null  object\n",
      " 14  craln_tlphn_sbscr_cmpn_nm  10363 non-null  object\n",
      " 15  frnt_ntds_prfn_cont        443 non-null    object\n",
      " 16  dgtl_hmpl_prfn_cont        1245 non-null   object\n",
      " 17  lsur_car_prfn_cont         563 non-null    object\n",
      " 18  bty_prfn_cont              1878 non-null   object\n",
      " 19  lilhd_kchn_prfn_cont       3045 non-null   object\n",
      " 20  sprt_fshn_prfn_cont        249 non-null    object\n",
      " 21  grcs_helth_prfn_cont       3809 non-null   object\n",
      " 22  jrny_prfn_cont             388 non-null    object\n",
      " 23  fshn_wear_prfn_cont        3403 non-null   object\n",
      " 24  auser_fshn_stff_prfn_cont  3188 non-null   object\n",
      " 25  lfst_cd                    18211 non-null  object\n",
      " 26  info_obtn_site_url         18211 non-null  object\n",
      "dtypes: int64(1), object(26)\n",
      "memory usage: 3.8+ MB\n",
      "None\n",
      "<class 'pandas.core.frame.DataFrame'>\n",
      "RangeIndex: 68606 entries, 0 to 68605\n",
      "Data columns (total 27 columns):\n",
      " #   Column                     Non-Null Count  Dtype \n",
      "---  ------                     --------------  ----- \n",
      " 0   auser_lfst_id              68606 non-null  object\n",
      " 1   info_obtn_dt               68606 non-null  object\n",
      " 2   auser_sxdst_cd             68606 non-null  object\n",
      " 3   age_group_cd               68606 non-null  int64 \n",
      " 4   auser_occpn_nm             47165 non-null  object\n",
      " 5   hshld_incm_group_nm        47142 non-null  object\n",
      " 6   mrrg_yn_nm                 68606 non-null  object\n",
      " 7   chdrn_yn_nm                68606 non-null  object\n",
      " 8   rsid_fom_nm                47146 non-null  object\n",
      " 9   auser_ara_ctprv_nm         68328 non-null  object\n",
      " 10  auser_ara_gu_nm            68328 non-null  object\n",
      " 11  auser_ara_dong_nm          68328 non-null  object\n",
      " 12  car_group_nm               27535 non-null  object\n",
      " 13  craln_tlphn_mkr_nm         47347 non-null  object\n",
      " 14  craln_tlphn_sbscr_cmpn_nm  47495 non-null  object\n",
      " 15  frnt_ntds_prfn_cont        1433 non-null   object\n",
      " 16  dgtl_hmpl_prfn_cont        6113 non-null   object\n",
      " 17  lsur_car_prfn_cont         2480 non-null   object\n",
      " 18  bty_prfn_cont              7347 non-null   object\n",
      " 19  lilhd_kchn_prfn_cont       9867 non-null   object\n",
      " 20  sprt_fshn_prfn_cont        1058 non-null   object\n",
      " 21  grcs_helth_prfn_cont       15267 non-null  object\n",
      " 22  jrny_prfn_cont             1860 non-null   object\n",
      " 23  fshn_wear_prfn_cont        13754 non-null  object\n",
      " 24  fshn_stff_prfn_cont        9427 non-null   object\n",
      " 25  lfst_cd                    68606 non-null  object\n",
      " 26  info_obtn_site_url         68606 non-null  object\n",
      "dtypes: int64(1), object(26)\n",
      "memory usage: 14.1+ MB\n",
      "None\n",
      "<class 'pandas.core.frame.DataFrame'>\n",
      "RangeIndex: 247034 entries, 0 to 247033\n",
      "Data columns (total 27 columns):\n",
      " #   Column                     Non-Null Count   Dtype \n",
      "---  ------                     --------------   ----- \n",
      " 0   auser_lfst_id              247034 non-null  object\n",
      " 1   info_obtn_dt               247034 non-null  object\n",
      " 2   auser_sxdst_cd             247034 non-null  object\n",
      " 3   age_group_cd               247034 non-null  int64 \n",
      " 4   auser_occpn_nm             245881 non-null  object\n",
      " 5   hshld_incm_group_nm        245881 non-null  object\n",
      " 6   mrrg_yn_nm                 247034 non-null  object\n",
      " 7   chdrn_yn_nm                247034 non-null  object\n",
      " 8   rsid_fom_nm                245881 non-null  object\n",
      " 9   auser_ara_ctprv_nm         247034 non-null  object\n",
      " 10  auser_ara_gu_nm            247034 non-null  object\n",
      " 11  auser_ara_dong_nm          247034 non-null  object\n",
      " 12  car_group_nm               147754 non-null  object\n",
      " 13  craln_tlphn_mkr_nm         245531 non-null  object\n",
      " 14  craln_tlphn_sbscr_cmpn_nm  245882 non-null  object\n",
      " 15  frnt_ntds_prfn_cont        8357 non-null    object\n",
      " 16  dgtl_hmpl_prfn_cont        27550 non-null   object\n",
      " 17  lsur_car_prfn_cont         8785 non-null    object\n",
      " 18  bty_prfn_cont              27049 non-null   object\n",
      " 19  lilhd_kchn_prfn_cont       33354 non-null   object\n",
      " 20  sprt_fshn_prfn_cont        5605 non-null    object\n",
      " 21  grcs_helth_prfn_cont       60641 non-null   object\n",
      " 22  jrny_prfn_cont             5199 non-null    object\n",
      " 23  fshn_wear_prfn_cont        43737 non-null   object\n",
      " 24  auser_fshn_stff_prfn_cont  26757 non-null   object\n",
      " 25  lfst_cd                    247034 non-null  object\n",
      " 26  info_obtn_site_url         247034 non-null  object\n",
      "dtypes: int64(1), object(26)\n",
      "memory usage: 50.9+ MB\n",
      "None\n",
      "<class 'pandas.core.frame.DataFrame'>\n",
      "RangeIndex: 36729 entries, 0 to 36728\n",
      "Data columns (total 27 columns):\n",
      " #   Column                     Non-Null Count  Dtype \n",
      "---  ------                     --------------  ----- \n",
      " 0   auser_lfst_id              36729 non-null  object\n",
      " 1   info_obtn_dt               36729 non-null  object\n",
      " 2   auser_sxdst_cd             36729 non-null  object\n",
      " 3   age_group_cd               36729 non-null  int64 \n",
      " 4   occpn_nm                   22461 non-null  object\n",
      " 5   hshld_incm_group_nm        22426 non-null  object\n",
      " 6   mrrg_yn_nm                 36729 non-null  object\n",
      " 7   chdrn_yn_nm                36729 non-null  object\n",
      " 8   rsid_fom_nm                22431 non-null  object\n",
      " 9   auser_ara_ctprv_nm         36510 non-null  object\n",
      " 10  auser_ara_gu_nm            36510 non-null  object\n",
      " 11  auser_ara_dong_nm          36510 non-null  object\n",
      " 12  car_group_nm               11319 non-null  object\n",
      " 13  craln_tlphn_mkr_nm         22469 non-null  object\n",
      " 14  craln_tlphn_sbscr_cmpn_nm  22581 non-null  object\n",
      " 15  frnt_ntds_prfn_cont        696 non-null    object\n",
      " 16  dgtl_hmpl_prfn_cont        1996 non-null   object\n",
      " 17  lsur_car_prfn_cont         1566 non-null   object\n",
      " 18  bty_prfn_cont              4536 non-null   object\n",
      " 19  lilhd_kchn_prfn_cont       5642 non-null   object\n",
      " 20  sprt_fshn_prfn_cont        789 non-null    object\n",
      " 21  grcs_helth_prfn_cont       5940 non-null   object\n",
      " 22  jrny_prfn_cont             352 non-null    object\n",
      " 23  fshn_wear_prfn_cont        9251 non-null   object\n",
      " 24  auser_fshn_stff_prfn_cont  5961 non-null   object\n",
      " 25  lfst_cd                    36729 non-null  object\n",
      " 26  info_obtn_site_url         36729 non-null  object\n",
      "dtypes: int64(1), object(26)\n",
      "memory usage: 7.6+ MB\n",
      "None\n"
     ]
    }
   ],
   "source": [
    "import pandas as pd\n",
    "\n",
    "def print_csv_file_info(file_name):\n",
    "    file_df = pd.read_csv(f'./data/{file_name}', encoding='cp949')\n",
    "    print(file_df.info())\n",
    "\n",
    "for i in portal_files:\n",
    "    print_csv_file_info(i)"
   ]
  },
  {
   "cell_type": "code",
   "execution_count": 26,
   "id": "6edcf232-c9e5-4697-ac5b-5a6861505b5e",
   "metadata": {},
   "outputs": [
    {
     "data": {
      "image/png": "[encoded data removed]",
      "text/plain": [
       "<Figure size 640x480 with 1 Axes>"
      ]
     },
     "metadata": {},
     "output_type": "display_data"
    }
   ],
   "source": [
    "import pandas as pd\n",
    "import matplotlib.pyplot as plt\n",
    "\n",
    "sort_index = ['gukrip', 'gwisan', 'dulle', 'deungsan', 'jajeongeo']\n",
    "file_paths = ['./data/' + file_name for file_name in portal_files]\n",
    "row_counts = []\n",
    "\n",
    "for file_path in file_paths:\n",
    "    try:\n",
    "        df = pd.read_csv(file_path, encoding='cp949')\n",
    "        row_counts.append(len(df))\n",
    "    except pd.errors.EmptyDataError:\n",
    "        row_counts.append(0)\n",
    "\n",
    "data = {'File': sort_index, 'Row Count': row_counts}\n",
    "row_count_df = pd.DataFrame(data)\n",
    "\n",
    "plt.bar(row_count_df['File'], row_count_df['Row Count'])\n",
    "plt.xlabel('File Name')\n",
    "plt.ylabel('Row Count')\n",
    "plt.title('Number of Rows in Each File')\n",
    "plt.xticks(rotation=45, ha='right')\n",
    "plt.show()"
   ]
  },
  {
   "cell_type": "code",
   "execution_count": 27,
   "id": "22d3ff42-1e83-4f03-8180-e04881b3e5a3",
   "metadata": {},
   "outputs": [
    {
     "name": "stdout",
     "output_type": "stream",
     "text": [
      "        File  Row Count\n",
      "0     gukrip     173928\n",
      "1     gwisan      18211\n",
      "2      dulle      68606\n",
      "3   deungsan     247034\n",
      "4  jajeongeo      36729\n",
      "sum 544508\n"
     ]
    }
   ],
   "source": [
    "print(row_count_df)\n",
    "sum =0\n",
    "for i in data['Row Count']:\n",
    "    sum+=i\n",
    "print(\"sum\", sum)"
   ]
  },
  {
   "cell_type": "code",
   "execution_count": 16,
   "id": "d9dd89d0-a113-4150-9b26-af191363430b",
   "metadata": {},
   "outputs": [
    {
     "name": "stdout",
     "output_type": "stream",
     "text": [
      "국립공원 관심인구 라이프스타일(온라인쇼핑몰 이용 카테고리 정보).csv\n",
      "귀산촌 관심인구 라이프스타일(온라인쇼핑몰 검색구매 카테고리) 정보.csv\n",
      "둘레길 관심인구 라이프스타일(온라인쇼핑몰 이용 카테고리 정보).csv\n",
      "등산로 관심인구 라이프스타일(온라인쇼핑몰 이용 카테고리 정보).csv\n",
      "자전거코스자전거길 관심인구 라이프스타일(온라인쇼핑몰 검색구매 카테고리) 정보.csv\n"
     ]
    },
    {
     "data": {
      "text/html": [
       "<div>\n",
       "<style scoped>\n",
       "    .dataframe tbody tr th:only-of-type {\n",
       "        vertical-align: middle;\n",
       "    }\n",
       "\n",
       "    .dataframe tbody tr th {\n",
       "        vertical-align: top;\n",
       "    }\n",
       "\n",
       "    .dataframe thead th {\n",
       "        text-align: right;\n",
       "    }\n",
       "</style>\n",
       "<table border=\"1\" class=\"dataframe\">\n",
       "  <thead>\n",
       "    <tr style=\"text-align: right;\">\n",
       "      <th></th>\n",
       "      <th>auser_lfst_id</th>\n",
       "      <th>info_obtn_dt</th>\n",
       "      <th>auser_sxdst_cd</th>\n",
       "      <th>age_group_cd</th>\n",
       "      <th>occpn_nm</th>\n",
       "      <th>hshld_incm_group_nm</th>\n",
       "      <th>mrrg_yn_nm</th>\n",
       "      <th>chdrn_yn_nm</th>\n",
       "      <th>rsid_fom_nm</th>\n",
       "      <th>auser_ara_ctprv_nm</th>\n",
       "      <th>...</th>\n",
       "      <th>sprt_fshn_prfn_cont</th>\n",
       "      <th>grcs_helth_prfn_cont</th>\n",
       "      <th>jrny_prfn_cont</th>\n",
       "      <th>fshn_wear_prfn_cont</th>\n",
       "      <th>auser_fshn_stff_prfn_cont</th>\n",
       "      <th>lfst_cd</th>\n",
       "      <th>info_obtn_site_url</th>\n",
       "      <th>type</th>\n",
       "      <th>auser_occpn_nm</th>\n",
       "      <th>fshn_stff_prfn_cont</th>\n",
       "    </tr>\n",
       "  </thead>\n",
       "  <tbody>\n",
       "    <tr>\n",
       "      <th>2</th>\n",
       "      <td>C***</td>\n",
       "      <td>201903**</td>\n",
       "      <td>F</td>\n",
       "      <td>2</td>\n",
       "      <td>사무직 (일반사무직, 공무원, 직업군인)</td>\n",
       "      <td>400~499만원</td>\n",
       "      <td>아니오</td>\n",
       "      <td></td>\n",
       "      <td>아파트/ 주상복합</td>\n",
       "      <td>부산</td>\n",
       "      <td>...</td>\n",
       "      <td>NaN</td>\n",
       "      <td>NaN</td>\n",
       "      <td>NaN</td>\n",
       "      <td>패션의류</td>\n",
       "      <td>NaN</td>\n",
       "      <td>패션잡화</td>\n",
       "      <td>http://m.11st.co.kr/MW/api/app/elevenst/produc...</td>\n",
       "      <td>gukrip</td>\n",
       "      <td>NaN</td>\n",
       "      <td>NaN</td>\n",
       "    </tr>\n",
       "    <tr>\n",
       "      <th>3</th>\n",
       "      <td>C***</td>\n",
       "      <td>201903**</td>\n",
       "      <td>F</td>\n",
       "      <td>2</td>\n",
       "      <td>사무직 (일반사무직, 공무원, 직업군인)</td>\n",
       "      <td>400~499만원</td>\n",
       "      <td>아니오</td>\n",
       "      <td></td>\n",
       "      <td>아파트/ 주상복합</td>\n",
       "      <td>부산</td>\n",
       "      <td>...</td>\n",
       "      <td>NaN</td>\n",
       "      <td>NaN</td>\n",
       "      <td>NaN</td>\n",
       "      <td>패션의류</td>\n",
       "      <td>NaN</td>\n",
       "      <td>패션잡화</td>\n",
       "      <td>http://m.11st.co.kr/MW/api/app/elevenst/produc...</td>\n",
       "      <td>gukrip</td>\n",
       "      <td>NaN</td>\n",
       "      <td>NaN</td>\n",
       "    </tr>\n",
       "    <tr>\n",
       "      <th>5</th>\n",
       "      <td>C***</td>\n",
       "      <td>201903**</td>\n",
       "      <td>F</td>\n",
       "      <td>2</td>\n",
       "      <td>사무직 (일반사무직, 공무원, 직업군인)</td>\n",
       "      <td>400~499만원</td>\n",
       "      <td>아니오</td>\n",
       "      <td></td>\n",
       "      <td>아파트/ 주상복합</td>\n",
       "      <td>부산</td>\n",
       "      <td>...</td>\n",
       "      <td>NaN</td>\n",
       "      <td>NaN</td>\n",
       "      <td>NaN</td>\n",
       "      <td>패션의류</td>\n",
       "      <td>NaN</td>\n",
       "      <td>패션잡화</td>\n",
       "      <td>http://m.11st.co.kr/MW/api/app/elevenst/produc...</td>\n",
       "      <td>gukrip</td>\n",
       "      <td>NaN</td>\n",
       "      <td>NaN</td>\n",
       "    </tr>\n",
       "    <tr>\n",
       "      <th>8</th>\n",
       "      <td>C***</td>\n",
       "      <td>201903**</td>\n",
       "      <td>F</td>\n",
       "      <td>2</td>\n",
       "      <td>사무직 (일반사무직, 공무원, 직업군인)</td>\n",
       "      <td>400~499만원</td>\n",
       "      <td>아니오</td>\n",
       "      <td></td>\n",
       "      <td>아파트/ 주상복합</td>\n",
       "      <td>부산</td>\n",
       "      <td>...</td>\n",
       "      <td>NaN</td>\n",
       "      <td>NaN</td>\n",
       "      <td>NaN</td>\n",
       "      <td>NaN</td>\n",
       "      <td>NaN</td>\n",
       "      <td>패션잡화</td>\n",
       "      <td>http://m.11st.co.kr/MW/api/app/elevenst/produc...</td>\n",
       "      <td>gukrip</td>\n",
       "      <td>NaN</td>\n",
       "      <td>NaN</td>\n",
       "    </tr>\n",
       "    <tr>\n",
       "      <th>11</th>\n",
       "      <td>C***</td>\n",
       "      <td>201903**</td>\n",
       "      <td>F</td>\n",
       "      <td>2</td>\n",
       "      <td>생산/노무직 (생산감독, 경비원, 공장근로자)</td>\n",
       "      <td>100~199만원</td>\n",
       "      <td>아니오</td>\n",
       "      <td></td>\n",
       "      <td>기타</td>\n",
       "      <td>인천</td>\n",
       "      <td>...</td>\n",
       "      <td>NaN</td>\n",
       "      <td>NaN</td>\n",
       "      <td>NaN</td>\n",
       "      <td>NaN</td>\n",
       "      <td>NaN</td>\n",
       "      <td>패션잡화</td>\n",
       "      <td>http://capi.coupang.com/v3/search-filter?filte...</td>\n",
       "      <td>gukrip</td>\n",
       "      <td>NaN</td>\n",
       "      <td>NaN</td>\n",
       "    </tr>\n",
       "  </tbody>\n",
       "</table>\n",
       "<p>5 rows × 30 columns</p>\n",
       "</div>"
      ],
      "text/plain": [
       "   auser_lfst_id info_obtn_dt auser_sxdst_cd  age_group_cd  \\\n",
       "2           C***     201903**              F             2   \n",
       "3           C***     201903**              F             2   \n",
       "5           C***     201903**              F             2   \n",
       "8           C***     201903**              F             2   \n",
       "11          C***     201903**              F             2   \n",
       "\n",
       "                     occpn_nm hshld_incm_group_nm mrrg_yn_nm chdrn_yn_nm  \\\n",
       "2      사무직 (일반사무직, 공무원, 직업군인)           400~499만원        아니오               \n",
       "3      사무직 (일반사무직, 공무원, 직업군인)           400~499만원        아니오               \n",
       "5      사무직 (일반사무직, 공무원, 직업군인)           400~499만원        아니오               \n",
       "8      사무직 (일반사무직, 공무원, 직업군인)           400~499만원        아니오               \n",
       "11  생산/노무직 (생산감독, 경비원, 공장근로자)           100~199만원        아니오               \n",
       "\n",
       "   rsid_fom_nm auser_ara_ctprv_nm  ... sprt_fshn_prfn_cont  \\\n",
       "2    아파트/ 주상복합                 부산  ...                 NaN   \n",
       "3    아파트/ 주상복합                 부산  ...                 NaN   \n",
       "5    아파트/ 주상복합                 부산  ...                 NaN   \n",
       "8    아파트/ 주상복합                 부산  ...                 NaN   \n",
       "11         기타                  인천  ...                 NaN   \n",
       "\n",
       "   grcs_helth_prfn_cont jrny_prfn_cont fshn_wear_prfn_cont  \\\n",
       "2                   NaN            NaN                패션의류   \n",
       "3                   NaN            NaN                패션의류   \n",
       "5                   NaN            NaN                패션의류   \n",
       "8                   NaN            NaN                 NaN   \n",
       "11                  NaN            NaN                 NaN   \n",
       "\n",
       "   auser_fshn_stff_prfn_cont lfst_cd  \\\n",
       "2                        NaN    패션잡화   \n",
       "3                        NaN    패션잡화   \n",
       "5                        NaN    패션잡화   \n",
       "8                        NaN    패션잡화   \n",
       "11                       NaN    패션잡화   \n",
       "\n",
       "                                   info_obtn_site_url    type auser_occpn_nm  \\\n",
       "2   http://m.11st.co.kr/MW/api/app/elevenst/produc...  gukrip            NaN   \n",
       "3   http://m.11st.co.kr/MW/api/app/elevenst/produc...  gukrip            NaN   \n",
       "5   http://m.11st.co.kr/MW/api/app/elevenst/produc...  gukrip            NaN   \n",
       "8   http://m.11st.co.kr/MW/api/app/elevenst/produc...  gukrip            NaN   \n",
       "11  http://capi.coupang.com/v3/search-filter?filte...  gukrip            NaN   \n",
       "\n",
       "   fshn_stff_prfn_cont  \n",
       "2                  NaN  \n",
       "3                  NaN  \n",
       "5                  NaN  \n",
       "8                  NaN  \n",
       "11                 NaN  \n",
       "\n",
       "[5 rows x 30 columns]"
      ]
     },
     "execution_count": 16,
     "metadata": {},
     "output_type": "execute_result"
    }
   ],
   "source": [
    "df = pd.DataFrame()\n",
    "sort_index = ['gukrip', 'gwisan', 'dulle', 'deungsan', 'jajeongeo']\n",
    "counts = []\n",
    "\n",
    "for idx, file_name in enumerate(portal_files):\n",
    "    print(file_name)\n",
    "    file_path = '../data/' + file_name\n",
    "    file_df = pd.read_csv(file_path, encoding='cp949')\n",
    "    file_df['type'] = sort_index[idx]\n",
    "    \n",
    "    counts.append(len(file_df[file_df['age_group_cd'] == 2]))\n",
    "    df = pd.concat([df, file_df[file_df['age_group_cd'] == 2]])\n",
    "\n",
    "df.head()"
   ]
  },
  {
   "cell_type": "code",
   "execution_count": 17,
   "id": "28aaad00-21b5-4593-880d-e0df6a976b3e",
   "metadata": {},
   "outputs": [
    {
     "data": {
      "image/png": "[encoded data removed]",
      "text/plain": [
       "<Figure size 640x480 with 1 Axes>"
      ]
     },
     "metadata": {},
     "output_type": "display_data"
    }
   ],
   "source": [
    "data = {'File': sort_index, 'Count': counts}\n",
    "count_df = pd.DataFrame(data)\n",
    "\n",
    "plt.bar(count_df['File'], count_df['Count'])\n",
    "plt.xlabel('File Name')\n",
    "plt.ylabel('Row Count')\n",
    "plt.title('Number of Rows in Each File')\n",
    "plt.xticks(rotation=45, ha='right')\n",
    "plt.show()"
   ]
  },
  {
   "cell_type": "code",
   "execution_count": 18,
   "id": "fd10f287-928c-4739-8214-18a323d4918f",
   "metadata": {},
   "outputs": [
    {
     "name": "stdout",
     "output_type": "stream",
     "text": [
      "국립공원 관심인구 라이프스타일(온라인쇼핑몰 이용 카테고리 정보).csv\n",
      "귀산촌 관심인구 라이프스타일(온라인쇼핑몰 검색구매 카테고리) 정보.csv\n",
      "둘레길 관심인구 라이프스타일(온라인쇼핑몰 이용 카테고리 정보).csv\n",
      "등산로 관심인구 라이프스타일(온라인쇼핑몰 이용 카테고리 정보).csv\n",
      "자전거코스자전거길 관심인구 라이프스타일(온라인쇼핑몰 검색구매 카테고리) 정보.csv\n"
     ]
    },
    {
     "data": {
      "text/html": [
       "<div>\n",
       "<style scoped>\n",
       "    .dataframe tbody tr th:only-of-type {\n",
       "        vertical-align: middle;\n",
       "    }\n",
       "\n",
       "    .dataframe tbody tr th {\n",
       "        vertical-align: top;\n",
       "    }\n",
       "\n",
       "    .dataframe thead th {\n",
       "        text-align: right;\n",
       "    }\n",
       "</style>\n",
       "<table border=\"1\" class=\"dataframe\">\n",
       "  <thead>\n",
       "    <tr style=\"text-align: right;\">\n",
       "      <th></th>\n",
       "    </tr>\n",
       "  </thead>\n",
       "  <tbody>\n",
       "  </tbody>\n",
       "</table>\n",
       "</div>"
      ],
      "text/plain": [
       "Empty DataFrame\n",
       "Columns: []\n",
       "Index: []"
      ]
     },
     "execution_count": 18,
     "metadata": {},
     "output_type": "execute_result"
    }
   ],
   "source": [
    "df = pd.DataFrame()\n",
    "sort_index = ['gukrip_F', 'gukrip_M', 'gwisan_F', 'gwisan_M', 'dulle_F', 'dulle_M', 'deungsan_F', 'deungsan_M', 'jajeongeo_F', 'jajeongeo']\n",
    "counts = []\n",
    "\n",
    "for idx, file_name in enumerate(portal_files):\n",
    "    print(file_name)\n",
    "    file_path = '../data/' + file_name\n",
    "    file_df = pd.read_csv(file_path, encoding='cp949')\n",
    "    file_df['type'] = sort_index[idx]\n",
    "\n",
    "    twenty_df = file_df[file_df['age_group_cd'] == 2]\n",
    "    counts.append(len(twenty_df[twenty_df['auser_sxdst_cd'] == 'F']))\n",
    "    counts.append(len(twenty_df[twenty_df['auser_sxdst_cd'] == 'M']))\n",
    "\n",
    "df.head()"
   ]
  },
  {
   "cell_type": "code",
   "execution_count": 19,
   "id": "d667cc37-be7e-45d4-a50b-b4485ac72e27",
   "metadata": {},
   "outputs": [
    {
     "data": {
      "image/png": "[encoded data removed]",
      "text/plain": [
       "<Figure size 640x480 with 1 Axes>"
      ]
     },
     "metadata": {},
     "output_type": "display_data"
    }
   ],
   "source": [
    "data = {'File': sort_index, 'Count': counts}\n",
    "count_df = pd.DataFrame(data)\n",
    "colors = ['blue', 'green', 'blue', 'green', 'blue', 'green', 'blue', 'green']\n",
    "\n",
    "plt.bar(count_df['File'], count_df['Count'], color=colors)\n",
    "plt.xlabel('File Name')\n",
    "plt.ylabel('Row Count')\n",
    "plt.title('Number of Rows in Each File')\n",
    "plt.xticks(rotation=45, ha='right')\n",
    "plt.show()"
   ]
  },
  {
   "cell_type": "markdown",
   "id": "fd3da34c-a8e4-4bb1-a358-f63b6bcd864a",
   "metadata": {},
   "source": [
    "# 관심인구 정보"
   ]
  },
  {
   "cell_type": "code",
   "execution_count": 34,
   "id": "d96874e4-3839-44cb-b886-5710c7d34cbb",
   "metadata": {},
   "outputs": [
    {
     "data": {
      "text/plain": [
       "re.compile(r'.*관심인구 정보.*', re.UNICODE)"
      ]
     },
     "execution_count": 34,
     "metadata": {},
     "output_type": "execute_result"
    }
   ],
   "source": [
    "import re\n",
    "pattern = r'.*관심인구 정보.*'\n",
    "re.compile(pattern)"
   ]
  },
  {
   "cell_type": "code",
   "execution_count": 40,
   "id": "9f95bd72-42c6-47d4-8b72-55d9aa4250b5",
   "metadata": {},
   "outputs": [
    {
     "name": "stdout",
     "output_type": "stream",
     "text": [
      "['국립공원 관심인구 정보.csv', '귀산촌 관심인구 정보.csv', '둘레길 관심인구 정보.csv', '등산로 관심인구 정보.csv', '자전거코스자전거길 관심인구 정보.csv']\n"
     ]
    }
   ],
   "source": [
    "def is_match(file_name):\n",
    "    return re.match(pattern, file_name)\n",
    "\n",
    "portal_files = list(filter(is_match, file_names))\n",
    "print(portal_files)"
   ]
  },
  {
   "cell_type": "code",
   "execution_count": 41,
   "id": "076f7d3c-144f-4682-a3ba-1cc60ced28f7",
   "metadata": {},
   "outputs": [
    {
     "name": "stdout",
     "output_type": "stream",
     "text": [
      "<class 'pandas.core.frame.DataFrame'>\n",
      "RangeIndex: 19910 entries, 0 to 19909\n",
      "Data columns (total 18 columns):\n",
      " #   Column                     Non-Null Count  Dtype \n",
      "---  ------                     --------------  ----- \n",
      " 0   auser_info_id              19910 non-null  object\n",
      " 1   extrc_word_nm              19910 non-null  object\n",
      " 2   info_obtn_dt               19910 non-null  object\n",
      " 3   auser_sxdst_cd             19910 non-null  object\n",
      " 4   age_group_cd               19910 non-null  int64 \n",
      " 5   occpn_nm                   19893 non-null  object\n",
      " 6   hshld_incm_group_nm        19893 non-null  object\n",
      " 7   mrrg_yn_nm                 19910 non-null  object\n",
      " 8   chdrn_yn_nm                19910 non-null  object\n",
      " 9   rsid_fom_nm                19893 non-null  object\n",
      " 10  auser_ara_ctprv_nm         19910 non-null  object\n",
      " 11  auser_ara_gu_nm            19910 non-null  object\n",
      " 12  auser_ara_dong_nm          19910 non-null  object\n",
      " 13  car_group_nm               12439 non-null  object\n",
      " 14  craln_tlphn_mkr_nm         19888 non-null  object\n",
      " 15  craln_tlphn_sbscr_cmpn_nm  19893 non-null  object\n",
      " 16  info_obtn_site_url         19910 non-null  object\n",
      " 17  info_obtn_site_subjc_nm    19910 non-null  object\n",
      "dtypes: int64(1), object(17)\n",
      "memory usage: 2.7+ MB\n",
      "None\n",
      "<class 'pandas.core.frame.DataFrame'>\n",
      "RangeIndex: 13011 entries, 0 to 13010\n",
      "Data columns (total 18 columns):\n",
      " #   Column                     Non-Null Count  Dtype \n",
      "---  ------                     --------------  ----- \n",
      " 0   auser_info_id              13011 non-null  object\n",
      " 1   extrc_word_nm              13011 non-null  object\n",
      " 2   info_obtn_dt               13011 non-null  object\n",
      " 3   auser_sxdst_cd             13011 non-null  object\n",
      " 4   age_group_cd               13011 non-null  int64 \n",
      " 5   occpn_nm                   7360 non-null   object\n",
      " 6   hshld_incm_group_nm        7351 non-null   object\n",
      " 7   mrrg_yn_nm                 13011 non-null  object\n",
      " 8   chdrn_yn_nm                13011 non-null  object\n",
      " 9   rsid_fom_nm                7351 non-null   object\n",
      " 10  auser_ara_ctprv_nm         12937 non-null  object\n",
      " 11  auser_ara_gu_nm            12937 non-null  object\n",
      " 12  auser_ara_dong_nm          12937 non-null  object\n",
      " 13  car_group_nm               5224 non-null   object\n",
      " 14  craln_tlphn_mkr_nm         7382 non-null   object\n",
      " 15  craln_tlphn_sbscr_cmpn_nm  7404 non-null   object\n",
      " 16  info_obtn_site_url         13011 non-null  object\n",
      " 17  info_obtn_site_subjc_nm    13011 non-null  object\n",
      "dtypes: int64(1), object(17)\n",
      "memory usage: 1.8+ MB\n",
      "None\n",
      "<class 'pandas.core.frame.DataFrame'>\n",
      "RangeIndex: 44373 entries, 0 to 44372\n",
      "Data columns (total 18 columns):\n",
      " #   Column                     Non-Null Count  Dtype \n",
      "---  ------                     --------------  ----- \n",
      " 0   auser_info_id              44373 non-null  object\n",
      " 1   extrc_word_nm              44373 non-null  object\n",
      " 2   info_obtn_dt               44373 non-null  object\n",
      " 3   auser_sxdst_cd             44373 non-null  object\n",
      " 4   age_group_cd               44373 non-null  int64 \n",
      " 5   auser_occpn_nm             26595 non-null  object\n",
      " 6   hshld_incm_group_nm        26567 non-null  object\n",
      " 7   mrrg_yn_nm                 44373 non-null  object\n",
      " 8   chdrn_yn_nm                44373 non-null  object\n",
      " 9   rsid_fom_nm                26573 non-null  object\n",
      " 10  auser_ara_ctprv_nm         44134 non-null  object\n",
      " 11  auser_ara_gu_nm            44134 non-null  object\n",
      " 12  auser_ara_dong_nm          44134 non-null  object\n",
      " 13  car_group_nm               16212 non-null  object\n",
      " 14  craln_tlphn_mkr_nm         26713 non-null  object\n",
      " 15  craln_tlphn_sbscr_cmpn_nm  26818 non-null  object\n",
      " 16  info_obtn_site_url         44373 non-null  object\n",
      " 17  info_obtn_site_subjc_nm    44373 non-null  object\n",
      "dtypes: int64(1), object(17)\n",
      "memory usage: 6.1+ MB\n",
      "None\n",
      "<class 'pandas.core.frame.DataFrame'>\n",
      "RangeIndex: 30692 entries, 0 to 30691\n",
      "Data columns (total 18 columns):\n",
      " #   Column                     Non-Null Count  Dtype \n",
      "---  ------                     --------------  ----- \n",
      " 0   auser_info_id              30692 non-null  object\n",
      " 1   extrc_word_nm              30692 non-null  object\n",
      " 2   info_obtn_dt               30692 non-null  object\n",
      " 3   auser_sxdst_cd             30692 non-null  object\n",
      " 4   age_group_cd               30692 non-null  int64 \n",
      " 5   auser_occpn_nm             30665 non-null  object\n",
      " 6   hshld_incm_group_nm        30665 non-null  object\n",
      " 7   mrrg_yn_nm                 30692 non-null  object\n",
      " 8   chdrn_yn_nm                30692 non-null  object\n",
      " 9   rsid_fom_nm                30665 non-null  object\n",
      " 10  auser_ara_ctprv_nm         30692 non-null  object\n",
      " 11  auser_ara_gu_nm            30692 non-null  object\n",
      " 12  auser_ara_dong_nm          30692 non-null  object\n",
      " 13  car_group_nm               18688 non-null  object\n",
      " 14  craln_tlphn_mkr_nm         30649 non-null  object\n",
      " 15  craln_tlphn_sbscr_cmpn_nm  30671 non-null  object\n",
      " 16  info_obtn_site_url         30692 non-null  object\n",
      " 17  info_obtn_site_subjc_nm    30692 non-null  object\n",
      "dtypes: int64(1), object(17)\n",
      "memory usage: 4.2+ MB\n",
      "None\n",
      "<class 'pandas.core.frame.DataFrame'>\n",
      "RangeIndex: 23494 entries, 0 to 23493\n",
      "Data columns (total 18 columns):\n",
      " #   Column                     Non-Null Count  Dtype \n",
      "---  ------                     --------------  ----- \n",
      " 0   auser_info_id              23494 non-null  object\n",
      " 1   extrc_word_nm              23494 non-null  object\n",
      " 2   info_obtn_dt               23494 non-null  object\n",
      " 3   auser_sxdst_cd             23494 non-null  object\n",
      " 4   age_group_cd               23494 non-null  int64 \n",
      " 5   occpn_nm                   13349 non-null  object\n",
      " 6   hshld_incm_group_nm        13325 non-null  object\n",
      " 7   mrrg_yn_nm                 23494 non-null  object\n",
      " 8   chdrn_yn_nm                23494 non-null  object\n",
      " 9   rsid_fom_nm                13333 non-null  object\n",
      " 10  auser_ara_ctprv_nm         23342 non-null  object\n",
      " 11  auser_ara_gu_nm            23342 non-null  object\n",
      " 12  auser_ara_dong_nm          23342 non-null  object\n",
      " 13  car_group_nm               7506 non-null   object\n",
      " 14  craln_tlphn_mkr_nm         13364 non-null  object\n",
      " 15  craln_tlphn_sbscr_cmpn_nm  13442 non-null  object\n",
      " 16  info_obtn_site_url         23494 non-null  object\n",
      " 17  info_obtn_site_subjc_nm    23494 non-null  object\n",
      "dtypes: int64(1), object(17)\n",
      "memory usage: 3.2+ MB\n",
      "None\n"
     ]
    }
   ],
   "source": [
    "import pandas as pd\n",
    "\n",
    "def print_csv_file_info(file_name):\n",
    "    file_df = pd.read_csv(f'./data/{file_name}', encoding='cp949')\n",
    "    print(file_df.info())\n",
    "\n",
    "for i in portal_files:\n",
    "    print_csv_file_info(i)"
   ]
  },
  {
   "cell_type": "code",
   "execution_count": 42,
   "id": "65546c44-6170-4d42-ab8a-5c1acf3d86f1",
   "metadata": {},
   "outputs": [
    {
     "data": {
      "image/png": "[encoded data removed]",
      "text/plain": [
       "<Figure size 640x480 with 1 Axes>"
      ]
     },
     "metadata": {},
     "output_type": "display_data"
    }
   ],
   "source": [
    "import pandas as pd\n",
    "import matplotlib.pyplot as plt\n",
    "\n",
    "sort_index = ['gukrip', 'gwisan', 'dulle', 'deungsan', 'jajeongeo']\n",
    "file_paths = ['./data/' + file_name for file_name in portal_files]\n",
    "row_counts = []\n",
    "\n",
    "for file_path in file_paths:\n",
    "    try:\n",
    "        df = pd.read_csv(file_path, encoding='cp949')\n",
    "        row_counts.append(len(df))\n",
    "    except pd.errors.EmptyDataError:\n",
    "        row_counts.append(0)\n",
    "\n",
    "data = {'File': sort_index, 'Row Count': row_counts}\n",
    "row_count_df = pd.DataFrame(data)\n",
    "\n",
    "plt.bar(row_count_df['File'], row_count_df['Row Count'])\n",
    "plt.xlabel('File Name')\n",
    "plt.ylabel('Row Count')\n",
    "plt.title('Number of Rows in Each File')\n",
    "plt.xticks(rotation=45, ha='right')\n",
    "plt.show()"
   ]
  },
  {
   "cell_type": "code",
   "execution_count": 43,
   "id": "9b05f4c9-c7f9-4e53-9d62-dd91b7ffa385",
   "metadata": {},
   "outputs": [
    {
     "name": "stdout",
     "output_type": "stream",
     "text": [
      "        File  Row Count\n",
      "0     gukrip      19910\n",
      "1     gwisan      13011\n",
      "2      dulle      44373\n",
      "3   deungsan      30692\n",
      "4  jajeongeo      23494\n",
      "sum 131480\n"
     ]
    }
   ],
   "source": [
    "print(row_count_df)\n",
    "sum =0\n",
    "for i in data['Row Count']:\n",
    "    sum+=i\n",
    "print(\"sum\", sum)"
   ]
  },
  {
   "cell_type": "code",
   "execution_count": 24,
   "id": "a96c7782-ab74-4499-9eed-e9765399d275",
   "metadata": {},
   "outputs": [
    {
     "name": "stdout",
     "output_type": "stream",
     "text": [
      "국립공원 관심인구 정보.csv\n",
      "귀산촌 관심인구 정보.csv\n",
      "둘레길 관심인구 정보.csv\n",
      "등산로 관심인구 정보.csv\n",
      "자전거코스자전거길 관심인구 정보.csv\n"
     ]
    },
    {
     "data": {
      "text/html": [
       "<div>\n",
       "<style scoped>\n",
       "    .dataframe tbody tr th:only-of-type {\n",
       "        vertical-align: middle;\n",
       "    }\n",
       "\n",
       "    .dataframe tbody tr th {\n",
       "        vertical-align: top;\n",
       "    }\n",
       "\n",
       "    .dataframe thead th {\n",
       "        text-align: right;\n",
       "    }\n",
       "</style>\n",
       "<table border=\"1\" class=\"dataframe\">\n",
       "  <thead>\n",
       "    <tr style=\"text-align: right;\">\n",
       "      <th></th>\n",
       "      <th>auser_info_id</th>\n",
       "      <th>extrc_word_nm</th>\n",
       "      <th>info_obtn_dt</th>\n",
       "      <th>auser_sxdst_cd</th>\n",
       "      <th>age_group_cd</th>\n",
       "      <th>occpn_nm</th>\n",
       "      <th>hshld_incm_group_nm</th>\n",
       "      <th>mrrg_yn_nm</th>\n",
       "      <th>chdrn_yn_nm</th>\n",
       "      <th>rsid_fom_nm</th>\n",
       "      <th>auser_ara_ctprv_nm</th>\n",
       "      <th>auser_ara_gu_nm</th>\n",
       "      <th>auser_ara_dong_nm</th>\n",
       "      <th>car_group_nm</th>\n",
       "      <th>craln_tlphn_mkr_nm</th>\n",
       "      <th>craln_tlphn_sbscr_cmpn_nm</th>\n",
       "      <th>info_obtn_site_url</th>\n",
       "      <th>info_obtn_site_subjc_nm</th>\n",
       "      <th>type</th>\n",
       "      <th>auser_occpn_nm</th>\n",
       "    </tr>\n",
       "  </thead>\n",
       "  <tbody>\n",
       "    <tr>\n",
       "      <th>55</th>\n",
       "      <td>C***</td>\n",
       "      <td>북한산</td>\n",
       "      <td>201903**</td>\n",
       "      <td>M</td>\n",
       "      <td>2</td>\n",
       "      <td>학생 (초중고학생, 대학생, 대학원생)</td>\n",
       "      <td>600~699만원</td>\n",
       "      <td>아니오</td>\n",
       "      <td></td>\n",
       "      <td>아파트/ 주상복합</td>\n",
       "      <td>서울</td>\n",
       "      <td>노원구</td>\n",
       "      <td>상계2동</td>\n",
       "      <td>NaN</td>\n",
       "      <td>삼성</td>\n",
       "      <td>SKT</td>\n",
       "      <td>https://m.news.naver.com/read.nhn?mode=LSD&amp;sid...</td>\n",
       "      <td>서울 은평구 모델하우스 화재…북한산으로 옮겨붙어(종합)</td>\n",
       "      <td>gukrip</td>\n",
       "      <td>NaN</td>\n",
       "    </tr>\n",
       "    <tr>\n",
       "      <th>56</th>\n",
       "      <td>C***</td>\n",
       "      <td>북한산</td>\n",
       "      <td>201903**</td>\n",
       "      <td>M</td>\n",
       "      <td>2</td>\n",
       "      <td>학생 (초중고학생, 대학생, 대학원생)</td>\n",
       "      <td>600~699만원</td>\n",
       "      <td>아니오</td>\n",
       "      <td></td>\n",
       "      <td>아파트/ 주상복합</td>\n",
       "      <td>서울</td>\n",
       "      <td>노원구</td>\n",
       "      <td>상계2동</td>\n",
       "      <td>NaN</td>\n",
       "      <td>삼성</td>\n",
       "      <td>SKT</td>\n",
       "      <td>https://m.news.naver.com/read.nhn?mode=LSD&amp;sid...</td>\n",
       "      <td>서울 은평구 모델하우스 화재…북한산으로 옮겨붙어(종합)</td>\n",
       "      <td>gukrip</td>\n",
       "      <td>NaN</td>\n",
       "    </tr>\n",
       "    <tr>\n",
       "      <th>92</th>\n",
       "      <td>C***1</td>\n",
       "      <td>내장사</td>\n",
       "      <td>201903**</td>\n",
       "      <td>M</td>\n",
       "      <td>2</td>\n",
       "      <td>무직</td>\n",
       "      <td>300~399만원</td>\n",
       "      <td>아니오</td>\n",
       "      <td></td>\n",
       "      <td>단독주택</td>\n",
       "      <td>대전</td>\n",
       "      <td>동구</td>\n",
       "      <td>가오동</td>\n",
       "      <td>NaN</td>\n",
       "      <td>삼성</td>\n",
       "      <td>KT</td>\n",
       "      <td>https://auto.v.daum.net/v/aT7YKg5jYH?f=m</td>\n",
       "      <td>신형 쏘나타 추가 디자인과 내장 사양 공개 | Daum 자동차</td>\n",
       "      <td>gukrip</td>\n",
       "      <td>NaN</td>\n",
       "    </tr>\n",
       "    <tr>\n",
       "      <th>109</th>\n",
       "      <td>C***</td>\n",
       "      <td>경주</td>\n",
       "      <td>201903**</td>\n",
       "      <td>F</td>\n",
       "      <td>2</td>\n",
       "      <td>전문직 (의사, 판검사, 예술가, 종교인)</td>\n",
       "      <td>700~799만원</td>\n",
       "      <td>아니오</td>\n",
       "      <td></td>\n",
       "      <td>단독주택</td>\n",
       "      <td>울산</td>\n",
       "      <td>남구</td>\n",
       "      <td>신정1동</td>\n",
       "      <td>소형SUV/CUV (티볼리, QM3 등)</td>\n",
       "      <td>애플</td>\n",
       "      <td>LG U+</td>\n",
       "      <td>https://m.search.naver.com/search.naver?query=...</td>\n",
       "      <td>경주 회전초밥 : 네이버 통합검색</td>\n",
       "      <td>gukrip</td>\n",
       "      <td>NaN</td>\n",
       "    </tr>\n",
       "    <tr>\n",
       "      <th>112</th>\n",
       "      <td>C***</td>\n",
       "      <td>경주</td>\n",
       "      <td>201903**</td>\n",
       "      <td>F</td>\n",
       "      <td>2</td>\n",
       "      <td>생산/노무직 (생산감독, 경비원, 공장근로자)</td>\n",
       "      <td>100~199만원</td>\n",
       "      <td>아니오</td>\n",
       "      <td></td>\n",
       "      <td>기타</td>\n",
       "      <td>인천</td>\n",
       "      <td>연수구</td>\n",
       "      <td>연수동</td>\n",
       "      <td>NaN</td>\n",
       "      <td>삼성</td>\n",
       "      <td>LG U+</td>\n",
       "      <td>https://m.blog.naver.com/snaya5527/221381270629</td>\n",
       "      <td>경주여행 전야제?_?심술712 파는곳 / 화요토닉 맛있게 먹는법!!!+다이소 술잔 ...</td>\n",
       "      <td>gukrip</td>\n",
       "      <td>NaN</td>\n",
       "    </tr>\n",
       "  </tbody>\n",
       "</table>\n",
       "</div>"
      ],
      "text/plain": [
       "    auser_info_id extrc_word_nm info_obtn_dt auser_sxdst_cd  age_group_cd  \\\n",
       "55           C***           북한산     201903**              M             2   \n",
       "56           C***           북한산     201903**              M             2   \n",
       "92          C***1           내장사     201903**              M             2   \n",
       "109          C***            경주     201903**              F             2   \n",
       "112          C***            경주     201903**              F             2   \n",
       "\n",
       "                      occpn_nm hshld_incm_group_nm mrrg_yn_nm chdrn_yn_nm  \\\n",
       "55       학생 (초중고학생, 대학생, 대학원생)           600~699만원        아니오               \n",
       "56       학생 (초중고학생, 대학생, 대학원생)           600~699만원        아니오               \n",
       "92                          무직           300~399만원        아니오               \n",
       "109    전문직 (의사, 판검사, 예술가, 종교인)           700~799만원        아니오               \n",
       "112  생산/노무직 (생산감독, 경비원, 공장근로자)           100~199만원        아니오               \n",
       "\n",
       "    rsid_fom_nm auser_ara_ctprv_nm auser_ara_gu_nm auser_ara_dong_nm  \\\n",
       "55    아파트/ 주상복합                 서울             노원구              상계2동   \n",
       "56    아파트/ 주상복합                 서울             노원구              상계2동   \n",
       "92         단독주택                 대전              동구               가오동   \n",
       "109        단독주택                 울산              남구              신정1동   \n",
       "112         기타                  인천             연수구               연수동   \n",
       "\n",
       "               car_group_nm craln_tlphn_mkr_nm craln_tlphn_sbscr_cmpn_nm  \\\n",
       "55                      NaN                 삼성                       SKT   \n",
       "56                      NaN                 삼성                       SKT   \n",
       "92                      NaN                 삼성                        KT   \n",
       "109  소형SUV/CUV (티볼리, QM3 등)                 애플                     LG U+   \n",
       "112                     NaN                 삼성                     LG U+   \n",
       "\n",
       "                                    info_obtn_site_url  \\\n",
       "55   https://m.news.naver.com/read.nhn?mode=LSD&sid...   \n",
       "56   https://m.news.naver.com/read.nhn?mode=LSD&sid...   \n",
       "92            https://auto.v.daum.net/v/aT7YKg5jYH?f=m   \n",
       "109  https://m.search.naver.com/search.naver?query=...   \n",
       "112    https://m.blog.naver.com/snaya5527/221381270629   \n",
       "\n",
       "                               info_obtn_site_subjc_nm    type auser_occpn_nm  \n",
       "55                      서울 은평구 모델하우스 화재…북한산으로 옮겨붙어(종합)  gukrip            NaN  \n",
       "56                      서울 은평구 모델하우스 화재…북한산으로 옮겨붙어(종합)  gukrip            NaN  \n",
       "92                  신형 쏘나타 추가 디자인과 내장 사양 공개 | Daum 자동차  gukrip            NaN  \n",
       "109                                 경주 회전초밥 : 네이버 통합검색  gukrip            NaN  \n",
       "112  경주여행 전야제?_?심술712 파는곳 / 화요토닉 맛있게 먹는법!!!+다이소 술잔 ...  gukrip            NaN  "
      ]
     },
     "execution_count": 24,
     "metadata": {},
     "output_type": "execute_result"
    }
   ],
   "source": [
    "df = pd.DataFrame()\n",
    "sort_index = ['gukrip', 'gwisan', 'dulle', 'deungsan', 'jajeongeo']\n",
    "counts = []\n",
    "\n",
    "for idx, file_name in enumerate(portal_files):\n",
    "    print(file_name)\n",
    "    file_path = '../data/' + file_name\n",
    "    file_df = pd.read_csv(file_path, encoding='cp949')\n",
    "    file_df['type'] = sort_index[idx]\n",
    "    \n",
    "    counts.append(len(file_df[file_df['age_group_cd'] == 2]))\n",
    "    df = pd.concat([df, file_df[file_df['age_group_cd'] == 2]])\n",
    "\n",
    "df.head()"
   ]
  },
  {
   "cell_type": "code",
   "execution_count": 25,
   "id": "10f167ab-867c-4c87-957b-b3d651be00fd",
   "metadata": {},
   "outputs": [
    {
     "data": {
      "image/png": "[encoded data removed]",
      "text/plain": [
       "<Figure size 640x480 with 1 Axes>"
      ]
     },
     "metadata": {},
     "output_type": "display_data"
    }
   ],
   "source": [
    "data = {'File': sort_index, 'Count': counts}\n",
    "count_df = pd.DataFrame(data)\n",
    "\n",
    "plt.bar(count_df['File'], count_df['Count'])\n",
    "plt.xlabel('File Name')\n",
    "plt.ylabel('Row Count')\n",
    "plt.title('Number of Rows in Each File')\n",
    "plt.xticks(rotation=45, ha='right')\n",
    "plt.show()"
   ]
  },
  {
   "cell_type": "code",
   "execution_count": 28,
   "id": "798ff3d9-c1ee-4768-93d2-04369387b08d",
   "metadata": {},
   "outputs": [
    {
     "name": "stdout",
     "output_type": "stream",
     "text": [
      "국립공원 관심인구 정보.csv\n",
      "귀산촌 관심인구 정보.csv\n",
      "둘레길 관심인구 정보.csv\n",
      "등산로 관심인구 정보.csv\n",
      "자전거코스자전거길 관심인구 정보.csv\n"
     ]
    },
    {
     "data": {
      "text/html": [
       "<div>\n",
       "<style scoped>\n",
       "    .dataframe tbody tr th:only-of-type {\n",
       "        vertical-align: middle;\n",
       "    }\n",
       "\n",
       "    .dataframe tbody tr th {\n",
       "        vertical-align: top;\n",
       "    }\n",
       "\n",
       "    .dataframe thead th {\n",
       "        text-align: right;\n",
       "    }\n",
       "</style>\n",
       "<table border=\"1\" class=\"dataframe\">\n",
       "  <thead>\n",
       "    <tr style=\"text-align: right;\">\n",
       "      <th></th>\n",
       "    </tr>\n",
       "  </thead>\n",
       "  <tbody>\n",
       "  </tbody>\n",
       "</table>\n",
       "</div>"
      ],
      "text/plain": [
       "Empty DataFrame\n",
       "Columns: []\n",
       "Index: []"
      ]
     },
     "execution_count": 28,
     "metadata": {},
     "output_type": "execute_result"
    }
   ],
   "source": [
    "df = pd.DataFrame()\n",
    "sort_index = ['gukrip_F', 'gukrip_M', 'gwisan_F', 'gwisan_M', 'dulle_F', 'dulle_M', 'deungsan_F', 'deungsan_M', 'jajeongeo_F', 'jajeongeo_M']\n",
    "counts = []\n",
    "\n",
    "for idx, file_name in enumerate(portal_files):\n",
    "    print(file_name)\n",
    "    file_path = '../data/' + file_name\n",
    "    file_df = pd.read_csv(file_path, encoding='cp949')\n",
    "    file_df['type'] = sort_index[idx]\n",
    "\n",
    "    twenty_df = file_df[file_df['age_group_cd'] == 2]\n",
    "    counts.append(len(twenty_df[twenty_df['auser_sxdst_cd'] == 'F']))\n",
    "    counts.append(len(twenty_df[twenty_df['auser_sxdst_cd'] == 'M']))\n",
    "\n",
    "df.head()"
   ]
  },
  {
   "cell_type": "code",
   "execution_count": 29,
   "id": "16f0ab83-5125-46fa-bbc6-e3fb1f730dcd",
   "metadata": {},
   "outputs": [
    {
     "data": {
      "image/png": "[encoded data removed]",
      "text/plain": [
       "<Figure size 640x480 with 1 Axes>"
      ]
     },
     "metadata": {},
     "output_type": "display_data"
    }
   ],
   "source": [
    "data = {'File': sort_index, 'Count': counts}\n",
    "count_df = pd.DataFrame(data)\n",
    "colors = ['blue', 'green', 'blue', 'green', 'blue', 'green', 'blue', 'green']\n",
    "\n",
    "plt.bar(count_df['File'], count_df['Count'], color=colors)\n",
    "plt.xlabel('File Name')\n",
    "plt.ylabel('Row Count')\n",
    "plt.title('Number of Rows in Each File')\n",
    "plt.xticks(rotation=45, ha='right')\n",
    "plt.show()"
   ]
  }
 ],
 "metadata": {
  "kernelspec": {
   "display_name": "Python 3 (ipykernel)",
   "language": "python",
   "name": "python3"
  },
  "language_info": {
   "codemirror_mode": {
    "name": "ipython",
    "version": 3
   },
   "file_extension": ".py",
   "mimetype": "text/x-python",
   "name": "python",
   "nbconvert_exporter": "python",
   "pygments_lexer": "ipython3",
   "version": "3.12.2"
  }
 },
 "nbformat": 4,
 "nbformat_minor": 5
}
